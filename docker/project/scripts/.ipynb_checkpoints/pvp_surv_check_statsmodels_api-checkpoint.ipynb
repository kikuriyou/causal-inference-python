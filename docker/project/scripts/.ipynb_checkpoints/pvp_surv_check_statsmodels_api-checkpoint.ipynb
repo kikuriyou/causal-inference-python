{
 "cells": [
  {
   "cell_type": "code",
   "execution_count": 1,
   "metadata": {
    "colab": {},
    "colab_type": "code",
    "id": "Jp2JLSsmltrH"
   },
   "outputs": [],
   "source": [
    "import os\n",
    "from time import time\n",
    "import math\n",
    "import random\n",
    "import gc\n",
    "import warnings\n",
    "\n",
    "import numpy as np\n",
    "from scipy import stats\n",
    "import pandas as pd\n",
    "import matplotlib.pyplot as plt\n",
    "import seaborn as sns\n",
    "import statsmodels.api as sm\n",
    "\n",
    "from prep import load_data\n",
    "\n",
    "warnings.filterwarnings('ignore')\n",
    "np.random.seed(123)\n",
    "plt.style.use('seaborn-dark')"
   ]
  },
  {
   "cell_type": "code",
   "execution_count": 2,
   "metadata": {
    "colab": {
     "base_uri": "https://localhost:8080/",
     "height": 462
    },
    "colab_type": "code",
    "executionInfo": {
     "elapsed": 262582,
     "status": "ok",
     "timestamp": 1580183492030,
     "user": {
      "displayName": "Akira Kikusato",
      "photoUrl": "",
      "userId": "07236968696701566936"
     },
     "user_tz": -540
    },
    "id": "ZEvSHNHEltok",
    "outputId": "8f51964c-f30e-4b77-be9a-1be53ae72dd4"
   },
   "outputs": [
    {
     "name": "stdout",
     "output_type": "stream",
     "text": [
      "Loading dataset...\n",
      "End in 2.06s.\n",
      "Merging dataframes...\n",
      "End in 2.09s.\n",
      "shape: (584925, 52)\n"
     ]
    },
    {
     "data": {
      "text/html": [
       "<div>\n",
       "<style scoped>\n",
       "    .dataframe tbody tr th:only-of-type {\n",
       "        vertical-align: middle;\n",
       "    }\n",
       "\n",
       "    .dataframe tbody tr th {\n",
       "        vertical-align: top;\n",
       "    }\n",
       "\n",
       "    .dataframe thead th {\n",
       "        text-align: right;\n",
       "    }\n",
       "</style>\n",
       "<table border=\"1\" class=\"dataframe\">\n",
       "  <thead>\n",
       "    <tr style=\"text-align: right;\">\n",
       "      <th></th>\n",
       "      <th>appUserId</th>\n",
       "      <th>elapsed_date</th>\n",
       "      <th>is_ios</th>\n",
       "      <th>is_jp</th>\n",
       "      <th>is_na</th>\n",
       "      <th>purchase_amt</th>\n",
       "      <th>purchase_dates</th>\n",
       "      <th>spend_paid_amt</th>\n",
       "      <th>spend_paid_dates</th>\n",
       "      <th>spend_free_amt</th>\n",
       "      <th>...</th>\n",
       "      <th>sess_time_total_rank</th>\n",
       "      <th>sess_time_min_rank</th>\n",
       "      <th>sess_time_mean_rank</th>\n",
       "      <th>sess_time_median_rank</th>\n",
       "      <th>sess_time_max_rank</th>\n",
       "      <th>cnt_sc_0050_rank</th>\n",
       "      <th>cnt_sc_0051_rank</th>\n",
       "      <th>cnt_sc_0052_rank</th>\n",
       "      <th>cnt_sc_0053_rank</th>\n",
       "      <th>prev_grade_rank</th>\n",
       "    </tr>\n",
       "  </thead>\n",
       "  <tbody>\n",
       "    <tr>\n",
       "      <th>0</th>\n",
       "      <td>823574376eaf849c</td>\n",
       "      <td>33</td>\n",
       "      <td>0</td>\n",
       "      <td>1</td>\n",
       "      <td>0</td>\n",
       "      <td>0.0</td>\n",
       "      <td>0</td>\n",
       "      <td>0.0</td>\n",
       "      <td>0</td>\n",
       "      <td>0.0</td>\n",
       "      <td>...</td>\n",
       "      <td>0.05059</td>\n",
       "      <td>0.108548</td>\n",
       "      <td>0.051148</td>\n",
       "      <td>0.05471</td>\n",
       "      <td>0.050693</td>\n",
       "      <td>0.0</td>\n",
       "      <td>0.0</td>\n",
       "      <td>0.0</td>\n",
       "      <td>0.0</td>\n",
       "      <td>0.0</td>\n",
       "    </tr>\n",
       "    <tr>\n",
       "      <th>1</th>\n",
       "      <td>eba6b9cc40114b2f</td>\n",
       "      <td>181</td>\n",
       "      <td>0</td>\n",
       "      <td>0</td>\n",
       "      <td>0</td>\n",
       "      <td>0.0</td>\n",
       "      <td>0</td>\n",
       "      <td>0.0</td>\n",
       "      <td>0</td>\n",
       "      <td>0.0</td>\n",
       "      <td>...</td>\n",
       "      <td>0.00000</td>\n",
       "      <td>0.000000</td>\n",
       "      <td>0.000000</td>\n",
       "      <td>0.00000</td>\n",
       "      <td>0.000000</td>\n",
       "      <td>0.0</td>\n",
       "      <td>0.0</td>\n",
       "      <td>0.0</td>\n",
       "      <td>0.0</td>\n",
       "      <td>0.0</td>\n",
       "    </tr>\n",
       "  </tbody>\n",
       "</table>\n",
       "<p>2 rows × 52 columns</p>\n",
       "</div>"
      ],
      "text/plain": [
       "          appUserId  elapsed_date  is_ios  is_jp  is_na  purchase_amt  \\\n",
       "0  823574376eaf849c            33       0      1      0           0.0   \n",
       "1  eba6b9cc40114b2f           181       0      0      0           0.0   \n",
       "\n",
       "   purchase_dates  spend_paid_amt  spend_paid_dates  spend_free_amt  ...  \\\n",
       "0               0             0.0                 0             0.0  ...   \n",
       "1               0             0.0                 0             0.0  ...   \n",
       "\n",
       "   sess_time_total_rank  sess_time_min_rank  sess_time_mean_rank  \\\n",
       "0               0.05059            0.108548             0.051148   \n",
       "1               0.00000            0.000000             0.000000   \n",
       "\n",
       "   sess_time_median_rank  sess_time_max_rank  cnt_sc_0050_rank  \\\n",
       "0                0.05471            0.050693               0.0   \n",
       "1                0.00000            0.000000               0.0   \n",
       "\n",
       "   cnt_sc_0051_rank  cnt_sc_0052_rank  cnt_sc_0053_rank  prev_grade_rank  \n",
       "0               0.0               0.0               0.0              0.0  \n",
       "1               0.0               0.0               0.0              0.0  \n",
       "\n",
       "[2 rows x 52 columns]"
      ]
     },
     "metadata": {},
     "output_type": "display_data"
    }
   ],
   "source": [
    "PROJECT = 'npf-brave-220ac3f'\n",
    "input_dir = '../input'\n",
    "pkl_file = os.path.join(input_dir, 'pvp.pkl')\n",
    "rank_pkl_file = os.path.join(input_dir, 'pvp_rank.pkl')\n",
    "treat_term = ('2019-11-19', '2019-11-25')\n",
    "\n",
    "print(\"Loading dataset...\")\n",
    "t0 = time()\n",
    "df = load_data(PROJECT, pkl_file, treat_term)\n",
    "rank_df = load_data(PROJECT, rank_pkl_file, treat_term, is_rank=True)\n",
    "print(f'End in {time() - t0 :.2f}s.')\n",
    "\n",
    "print(\"Merging dataframes...\")\n",
    "t0 = time()\n",
    "df = pd.merge(df, rank_df, how='left', on='appUserId')\n",
    "df = df.fillna(0)\n",
    "del rank_df; gc.collect()\n",
    "print(f'End in {time() - t0 :.2f}s.')\n",
    "\n",
    "print(f'shape: {df.shape}')\n",
    "display(df.head(2))"
   ]
  },
  {
   "cell_type": "markdown",
   "metadata": {},
   "source": [
    "# Check dataset"
   ]
  },
  {
   "cell_type": "code",
   "execution_count": 3,
   "metadata": {
    "colab": {
     "base_uri": "https://localhost:8080/",
     "height": 170
    },
    "colab_type": "code",
    "executionInfo": {
     "elapsed": 822,
     "status": "ok",
     "timestamp": 1580183628468,
     "user": {
      "displayName": "Akira Kikusato",
      "photoUrl": "",
      "userId": "07236968696701566936"
     },
     "user_tz": -540
    },
    "id": "2r_S1JANGdkN",
    "outputId": "ef2ffb5e-bc88-4d05-e741-516473e31ef6"
   },
   "outputs": [
    {
     "name": "stdout",
     "output_type": "stream",
     "text": [
      "Index(['appUserId', 'elapsed_date', 'is_ios', 'is_jp', 'is_na', 'purchase_amt',\n",
      "       'purchase_dates', 'spend_paid_amt', 'spend_paid_dates',\n",
      "       'spend_free_amt', 'spend_free_dates', 'sess_cnt', 'sess_time_total',\n",
      "       'sess_time_min', 'sess_time_mean', 'sess_time_median', 'sess_time_max',\n",
      "       'vc_possession', 'unit_possession', 'cnt_sc_0050', 'cnt_sc_0051',\n",
      "       'cnt_sc_0052', 'cnt_sc_0053', 'is_played_sc_0050', 'is_played_sc_0051',\n",
      "       'is_played_sc_0052', 'is_played_sc_0053', 'prev_grade',\n",
      "       'purchase_amt_rank', 'purchase_dates_rank', 'spend_paid_amt_rank',\n",
      "       'spend_paid_dates_rank', 'spend_free_amt_rank', 'spend_free_dates_rank',\n",
      "       'vc_possession_rank', 'unit_possession_rank', 'is_play', 'pay_amt',\n",
      "       'is_pay', 'event_time_last', 'event_time', 'sess_cnt_rank',\n",
      "       'sess_time_total_rank', 'sess_time_min_rank', 'sess_time_mean_rank',\n",
      "       'sess_time_median_rank', 'sess_time_max_rank', 'cnt_sc_0050_rank',\n",
      "       'cnt_sc_0051_rank', 'cnt_sc_0052_rank', 'cnt_sc_0053_rank',\n",
      "       'prev_grade_rank'],\n",
      "      dtype='object')\n"
     ]
    }
   ],
   "source": [
    "print(df.columns)"
   ]
  },
  {
   "cell_type": "code",
   "execution_count": 4,
   "metadata": {
    "colab": {},
    "colab_type": "code",
    "id": "Lk-52WbcMuCX"
   },
   "outputs": [],
   "source": [
    "treat_col = 'is_play'"
   ]
  },
  {
   "cell_type": "code",
   "execution_count": 5,
   "metadata": {},
   "outputs": [
    {
     "name": "stdout",
     "output_type": "stream",
     "text": [
      "# of samples (treatment): 188618\n",
      "# of samples (control):   396307\n"
     ]
    }
   ],
   "source": [
    "cnt_tr = len(df[df[treat_col]==1])\n",
    "cnt_ct = len(df[df[treat_col]==0])\n",
    "\n",
    "print(f'# of samples (treatment): {cnt_tr}')\n",
    "print(f'# of samples (control):   {cnt_ct}')"
   ]
  },
  {
   "cell_type": "code",
   "execution_count": 6,
   "metadata": {
    "colab": {},
    "colab_type": "code",
    "id": "tX2b6_kNJohs"
   },
   "outputs": [
    {
     "data": {
      "image/png": "[encoded data removed]",
      "text/plain": [
       "<Figure size 1728x1728 with 51 Axes>"
      ]
     },
     "metadata": {},
     "output_type": "display_data"
    }
   ],
   "source": [
    "# treatmentごとの各特徴量のヒストグラム(調整前)\n",
    "plt.figure(figsize=(24, 24))\n",
    "tmp1 = df[df[treat_col]==1].sample(1000, random_state=123)\n",
    "tmp0 = df[df[treat_col]==0].sample(1000, random_state=123)\n",
    "vis_cols = [c for c in df.columns if c not in ['appUserId']]\n",
    "for idx, col in enumerate(vis_cols):\n",
    "    plt.subplot(10, 6, idx+1)\n",
    "    plt.hist(tmp1[col], bins=10, alpha=0.5, label='treat')\n",
    "    plt.hist(tmp0[col], bins=10, alpha=0.5, label='control')\n",
    "    plt.legend(loc='best')\n",
    "    plt.title(col)\n",
    "plt.tight_layout()\n",
    "plt.show()"
   ]
  },
  {
   "cell_type": "markdown",
   "metadata": {},
   "source": [
    "# Calculate propensity score"
   ]
  },
  {
   "cell_type": "code",
   "execution_count": 7,
   "metadata": {
    "colab": {},
    "colab_type": "code",
    "id": "UBA5eK5MJoeM"
   },
   "outputs": [
    {
     "name": "stdout",
     "output_type": "stream",
     "text": [
      "use_cols:  ['is_na', 'purchase_amt_rank', 'purchase_dates_rank', 'spend_free_amt_rank', 'spend_free_dates_rank', 'vc_possession_rank', 'unit_possession_rank', 'is_play', 'sess_cnt_rank', 'sess_time_min_rank', 'prev_grade_rank']\n"
     ]
    }
   ],
   "source": [
    "from sklearn.preprocessing import StandardScaler\n",
    "from sklearn.model_selection import train_test_split\n",
    "from sklearn.linear_model import LogisticRegression\n",
    "from sklearn.ensemble import RandomForestClassifier\n",
    "from sklearn.metrics import roc_auc_score\n",
    "from sklearn.calibration import calibration_curve\n",
    "\n",
    "drop_cols = ['appUserId', 'is_ios', 'elapsed_date', 'is_jp', \n",
    "             'sess_cnt', 'sess_time_total', 'sess_time_min', 'sess_time_mean', 'sess_time_median', 'sess_time_max',\n",
    "             'purchase_amt', 'purchase_dates', 'spend_paid_amt', 'spend_paid_dates', 'spend_free_amt', 'spend_free_dates',\n",
    "             'vc_possession', 'unit_possession', \n",
    "             'is_played_sc_0050', 'is_played_sc_0051', 'is_played_sc_0052', 'is_played_sc_0053', \n",
    "             'cnt_sc_0050', 'cnt_sc_0051', 'cnt_sc_0052', 'cnt_sc_0053', \n",
    "             'prev_grade', #'prev_grade_rank',\n",
    "             # 似た共変量は相関が強いので、代表的なものを除き削除する\n",
    "             'sess_time_total_rank', 'sess_time_max_rank', \n",
    "             'sess_time_mean_rank', 'sess_time_median_rank', \n",
    "             #'sess_time_min_rank', \n",
    "             #'purchase_amt', 'purchase_dates', \n",
    "             'spend_paid_amt_rank', 'spend_paid_dates_rank', \n",
    "             #'spend_free_amt', 'spend_free_dates',\n",
    "             'cnt_sc_0050_rank', 'cnt_sc_0051_rank', 'cnt_sc_0052_rank', 'cnt_sc_0053_rank', \n",
    "             'is_play', 'pay_amt', 'is_pay', 'event_time', 'event_time_last']\n",
    "drop_cols.remove(treat_col)\n",
    "use_cols = [c for c in df.columns if c not in drop_cols]\n",
    "print('use_cols: ', use_cols)\n",
    "merged_df = df[use_cols]    # treat_col は含んでいる\n",
    "\n",
    "#tr_df = merged_df[merged_df[treat_col]==1].reset_index(drop=True)\n",
    "#ct_df = merged_df[merged_df[treat_col]==0].reset_index(drop=True)\n",
    "#merged_df = pd.concat([tr_df, ct_df.sample(n=len(tr_df), random_state=123)]).reset_index(drop=True)\n",
    "merged_x = merged_df.drop(treat_col, axis=1).values\n",
    "merged_y = merged_df[treat_col].values\n",
    "\n",
    "train_df, test_df = train_test_split(merged_df, test_size=0.25, random_state=123)\n",
    "train_x = train_df.drop([treat_col], axis=1).values\n",
    "train_y = train_df[treat_col].values\n",
    "test_x = test_df.drop([treat_col], axis=1).values\n",
    "test_y = test_df[treat_col].values"
   ]
  },
  {
   "cell_type": "code",
   "execution_count": 8,
   "metadata": {},
   "outputs": [
    {
     "name": "stdout",
     "output_type": "stream",
     "text": [
      "Optimization terminated successfully.\n",
      "         Current function value: 0.266532\n",
      "         Iterations 8\n",
      "Index(['is_na', 'purchase_amt_rank', 'purchase_dates_rank',\n",
      "       'spend_free_amt_rank', 'spend_free_dates_rank', 'vc_possession_rank',\n",
      "       'unit_possession_rank', 'sess_cnt_rank', 'sess_time_min_rank',\n",
      "       'prev_grade_rank'],\n",
      "      dtype='object')\n"
     ]
    },
    {
     "data": {
      "text/html": [
       "<table class=\"simpletable\">\n",
       "<caption>Logit Regression Results</caption>\n",
       "<tr>\n",
       "  <th>Dep. Variable:</th>           <td>y</td>        <th>  No. Observations:  </th>   <td>584925</td>   \n",
       "</tr>\n",
       "<tr>\n",
       "  <th>Model:</th>                 <td>Logit</td>      <th>  Df Residuals:      </th>   <td>584914</td>   \n",
       "</tr>\n",
       "<tr>\n",
       "  <th>Method:</th>                 <td>MLE</td>       <th>  Df Model:          </th>   <td>    10</td>   \n",
       "</tr>\n",
       "<tr>\n",
       "  <th>Date:</th>            <td>Mon, 09 Mar 2020</td> <th>  Pseudo R-squ.:     </th>   <td>0.5761</td>   \n",
       "</tr>\n",
       "<tr>\n",
       "  <th>Time:</th>                <td>11:48:50</td>     <th>  Log-Likelihood:    </th> <td>-1.5590e+05</td>\n",
       "</tr>\n",
       "<tr>\n",
       "  <th>converged:</th>             <td>True</td>       <th>  LL-Null:           </th> <td>-3.6775e+05</td>\n",
       "</tr>\n",
       "<tr>\n",
       "  <th>Covariance Type:</th>     <td>nonrobust</td>    <th>  LLR p-value:       </th>   <td> 0.000</td>   \n",
       "</tr>\n",
       "</table>\n",
       "<table class=\"simpletable\">\n",
       "<tr>\n",
       "    <td></td>       <th>coef</th>     <th>std err</th>      <th>z</th>      <th>P>|z|</th>  <th>[0.025</th>    <th>0.975]</th>  \n",
       "</tr>\n",
       "<tr>\n",
       "  <th>const</th> <td>   -5.4846</td> <td>    0.024</td> <td> -232.389</td> <td> 0.000</td> <td>   -5.531</td> <td>   -5.438</td>\n",
       "</tr>\n",
       "<tr>\n",
       "  <th>x1</th>    <td>   -0.2012</td> <td>    0.014</td> <td>  -13.966</td> <td> 0.000</td> <td>   -0.229</td> <td>   -0.173</td>\n",
       "</tr>\n",
       "<tr>\n",
       "  <th>x2</th>    <td>   -0.6939</td> <td>    0.502</td> <td>   -1.384</td> <td> 0.166</td> <td>   -1.677</td> <td>    0.289</td>\n",
       "</tr>\n",
       "<tr>\n",
       "  <th>x3</th>    <td>    0.6818</td> <td>    0.509</td> <td>    1.340</td> <td> 0.180</td> <td>   -0.316</td> <td>    1.679</td>\n",
       "</tr>\n",
       "<tr>\n",
       "  <th>x4</th>    <td>    0.2641</td> <td>    0.023</td> <td>   11.487</td> <td> 0.000</td> <td>    0.219</td> <td>    0.309</td>\n",
       "</tr>\n",
       "<tr>\n",
       "  <th>x5</th>    <td>    0.2868</td> <td>    0.026</td> <td>   10.901</td> <td> 0.000</td> <td>    0.235</td> <td>    0.338</td>\n",
       "</tr>\n",
       "<tr>\n",
       "  <th>x6</th>    <td>    0.9599</td> <td>    0.021</td> <td>   45.581</td> <td> 0.000</td> <td>    0.919</td> <td>    1.001</td>\n",
       "</tr>\n",
       "<tr>\n",
       "  <th>x7</th>    <td>   -0.0318</td> <td>    0.018</td> <td>   -1.735</td> <td> 0.083</td> <td>   -0.068</td> <td>    0.004</td>\n",
       "</tr>\n",
       "<tr>\n",
       "  <th>x8</th>    <td>    0.9669</td> <td>    0.027</td> <td>   36.188</td> <td> 0.000</td> <td>    0.914</td> <td>    1.019</td>\n",
       "</tr>\n",
       "<tr>\n",
       "  <th>x9</th>    <td>    1.7575</td> <td>    0.018</td> <td>   96.685</td> <td> 0.000</td> <td>    1.722</td> <td>    1.793</td>\n",
       "</tr>\n",
       "<tr>\n",
       "  <th>x10</th>   <td>    5.5061</td> <td>    0.019</td> <td>  283.169</td> <td> 0.000</td> <td>    5.468</td> <td>    5.544</td>\n",
       "</tr>\n",
       "</table>"
      ],
      "text/plain": [
       "<class 'statsmodels.iolib.summary.Summary'>\n",
       "\"\"\"\n",
       "                           Logit Regression Results                           \n",
       "==============================================================================\n",
       "Dep. Variable:                      y   No. Observations:               584925\n",
       "Model:                          Logit   Df Residuals:                   584914\n",
       "Method:                           MLE   Df Model:                           10\n",
       "Date:                Mon, 09 Mar 2020   Pseudo R-squ.:                  0.5761\n",
       "Time:                        11:48:50   Log-Likelihood:            -1.5590e+05\n",
       "converged:                       True   LL-Null:                   -3.6775e+05\n",
       "Covariance Type:            nonrobust   LLR p-value:                     0.000\n",
       "==============================================================================\n",
       "                 coef    std err          z      P>|z|      [0.025      0.975]\n",
       "------------------------------------------------------------------------------\n",
       "const         -5.4846      0.024   -232.389      0.000      -5.531      -5.438\n",
       "x1            -0.2012      0.014    -13.966      0.000      -0.229      -0.173\n",
       "x2            -0.6939      0.502     -1.384      0.166      -1.677       0.289\n",
       "x3             0.6818      0.509      1.340      0.180      -0.316       1.679\n",
       "x4             0.2641      0.023     11.487      0.000       0.219       0.309\n",
       "x5             0.2868      0.026     10.901      0.000       0.235       0.338\n",
       "x6             0.9599      0.021     45.581      0.000       0.919       1.001\n",
       "x7            -0.0318      0.018     -1.735      0.083      -0.068       0.004\n",
       "x8             0.9669      0.027     36.188      0.000       0.914       1.019\n",
       "x9             1.7575      0.018     96.685      0.000       1.722       1.793\n",
       "x10            5.5061      0.019    283.169      0.000       5.468       5.544\n",
       "==============================================================================\n",
       "\"\"\""
      ]
     },
     "execution_count": 8,
     "metadata": {},
     "output_type": "execute_result"
    }
   ],
   "source": [
    "import statsmodels.api as sm\n",
    "\n",
    "X = merged_x\n",
    "y = merged_y\n",
    "X = sm.add_constant(X)\n",
    "model = sm.Logit(y, X)\n",
    "res = model.fit()\n",
    "\n",
    "print(merged_df.drop(treat_col, axis=1).columns)\n",
    "res.summary()"
   ]
  },
  {
   "cell_type": "code",
   "execution_count": 41,
   "metadata": {},
   "outputs": [
    {
     "data": {
      "text/plain": [
       "array([-5.48456657, -0.20115379, -0.69393473,  0.6817561 ,  0.26405063,\n",
       "        0.28682989,  0.9598912 , -0.03183749,  0.96685664,  1.7575451 ,\n",
       "        5.50612311])"
      ]
     },
     "execution_count": 41,
     "metadata": {},
     "output_type": "execute_result"
    }
   ],
   "source": [
    "res.params"
   ]
  },
  {
   "cell_type": "code",
   "execution_count": 44,
   "metadata": {},
   "outputs": [
    {
     "data": {
      "text/plain": [
       "-155901.2518604868"
      ]
     },
     "execution_count": 44,
     "metadata": {},
     "output_type": "execute_result"
    }
   ],
   "source": [
    "model.loglike(res.params)"
   ]
  },
  {
   "cell_type": "code",
   "execution_count": null,
   "metadata": {
    "colab": {},
    "colab_type": "code",
    "id": "kPyJsMZKJobP"
   },
   "outputs": [],
   "source": [
    "print('Start logistic regression....')\n",
    "#clf = LogisticRegression(penalty='l1', C=1, solver='saga', random_state=123)\n",
    "clf = LogisticRegression(penalty='l2', C=1, random_state=123)\n",
    "clf.fit(train_x, train_y)\n",
    "pred = clf.predict(test_x)\n",
    "auc = roc_auc_score(test_y, pred)\n",
    "print(f'test-AUC(logistic regression): {auc :.6f}')"
   ]
  },
  {
   "cell_type": "code",
   "execution_count": null,
   "metadata": {},
   "outputs": [],
   "source": [
    "print('\\nStart random forest....')\n",
    "clf = RandomForestClassifier(\n",
    "    max_depth=8, \n",
    "    min_samples_leaf=int(len(merged_df)/1000), \n",
    "    n_jobs=-1, random_state=123)\n",
    "clf.fit(train_x, train_y)\n",
    "pred = clf.predict(test_x)\n",
    "auc = roc_auc_score(test_y, pred)\n",
    "print(f'test-AUC(random forest): {auc :.6f}')"
   ]
  },
  {
   "cell_type": "code",
   "execution_count": null,
   "metadata": {},
   "outputs": [],
   "source": [
    "#TODO: scalerやる\n",
    "#scaler = StandardScaler()\n",
    "#merged_x = scaler.fit_transform(merged_x)"
   ]
  },
  {
   "cell_type": "code",
   "execution_count": null,
   "metadata": {
    "colab": {},
    "colab_type": "code",
    "id": "gj8NggfpJoYb"
   },
   "outputs": [],
   "source": [
    "#clf = LogisticRegression(penalty='l1', C=1, solver='saga', random_state=123)\n",
    "clf = LogisticRegression(penalty='l2', C=1, random_state=123)\n",
    "clf.fit(merged_x, merged_y)\n",
    "merged_df['propensity_lr'] = clf.predict_proba(merged_x)[:, 1]\n",
    "clf.coef_"
   ]
  },
  {
   "cell_type": "code",
   "execution_count": null,
   "metadata": {
    "colab": {},
    "colab_type": "code",
    "id": "l3Msouy4JoVg"
   },
   "outputs": [],
   "source": [
    "# TODO: scaler, CVやる\n",
    "clf = RandomForestClassifier(max_depth=8, \n",
    "                             min_samples_leaf=int(len(merged_df)/100), \n",
    "                             n_jobs=-1, random_state=123)\n",
    "clf.fit(merged_x, merged_y)\n",
    "merged_df['propensity_rf'] = clf.predict_proba(merged_x)[:, 1]"
   ]
  },
  {
   "cell_type": "code",
   "execution_count": null,
   "metadata": {
    "colab": {},
    "colab_type": "code",
    "id": "eqWLhdd5JoSk"
   },
   "outputs": [],
   "source": [
    "importance_df = pd.DataFrame()\n",
    "drop_cols = [treat_col, 'propensity_lr', 'propensity_rf']\n",
    "use_cols = [c for c in merged_df.columns if c not in drop_cols]\n",
    "importance_df['feature'] = merged_df[use_cols].columns\n",
    "importance_df['importance'] = clf.feature_importances_\n",
    "importance_df.sort_values(by='importance', ascending=False, inplace=True)\n",
    "plt.barh(\n",
    "    importance_df.sort_values(by='importance')['feature'], \n",
    "    importance_df.sort_values(by='importance')['importance'])"
   ]
  },
  {
   "cell_type": "code",
   "execution_count": null,
   "metadata": {
    "colab": {},
    "colab_type": "code",
    "id": "YEDJgnRYJoRc"
   },
   "outputs": [],
   "source": [
    "treat_ps_lr = merged_df.loc[merged_df[treat_col]==1, 'propensity_lr'].values\n",
    "control_ps_lr = merged_df.loc[merged_df[treat_col]==0, 'propensity_lr'].values\n",
    "\n",
    "ps_list = [treat_ps_lr, control_ps_lr]\n",
    "lbl_list = ['treat', 'control']\n",
    "\n",
    "plt.figure(figsize=(12, 4))\n",
    "for idx, (ps, lbl) in enumerate(zip(ps_list, lbl_list)):\n",
    "    plt.subplot(1, 2, idx+1)\n",
    "    plt.hist(ps, bins=10, alpha=0.5, label=lbl)\n",
    "    plt.xlim(0, 1)\n",
    "    plt.title('logistic regression')\n",
    "    plt.legend(loc='best')\n",
    "plt.show()\n",
    "\n",
    "\n",
    "treat_ps_rf = merged_df.loc[merged_df[treat_col]==1, 'propensity_rf'].values\n",
    "control_ps_rf = merged_df.loc[merged_df[treat_col]==0, 'propensity_rf'].values\n",
    "\n",
    "ps_list = [treat_ps_rf, control_ps_rf]\n",
    "lbl_list = ['treat', 'control']\n",
    "\n",
    "plt.figure(figsize=(12, 4))\n",
    "for idx, (ps, lbl) in enumerate(zip(ps_list, lbl_list)):\n",
    "    plt.subplot(1, 2, idx+1)\n",
    "    plt.hist(ps, bins=10, alpha=0.5, label=lbl)\n",
    "    plt.xlim(0, 1)\n",
    "    plt.title('random forest')\n",
    "    plt.legend(loc='best')\n",
    "plt.show()"
   ]
  },
  {
   "cell_type": "markdown",
   "metadata": {
    "colab": {},
    "colab_type": "code",
    "id": "YVjUX53RJ6N_"
   },
   "source": [
    "# treatment有無での各特徴量のヒストグラム\n",
    "plt.rcParams[\"font.size\"] = 10\n",
    "\n",
    "# オリジナル, バイアス有り(unweighted)\n",
    "plt.figure(figsize=(18, 4))\n",
    "plt.suptitle('unweighted', fontsize=16)\n",
    "for idx in range(12):\n",
    "    col = f'f{idx}'\n",
    "    plt.subplot(2, 6, idx+1)\n",
    "    plt.hist(treat_df[col], bins=10, alpha=0.5)\n",
    "    plt.hist(control_df[col], bins=10, alpha=0.5)\n",
    "    plt.title(col)\n",
    "plt.tight_layout()\n",
    "plt.show()\n",
    "\n",
    "# 傾向スコアの逆数を乗じて補正(IPW)\n",
    "inv_tr_ps = 1 / treat_ps_lr\n",
    "inv_ct_ps = 1 / (1-control_ps_lr)\n",
    "plt.figure(figsize=(18, 4))\n",
    "plt.suptitle('IPW', fontsize=16)\n",
    "for idx in range(12):\n",
    "    col = f'f{idx}'\n",
    "    plt.subplot(2, 6, idx+1)\n",
    "    plt.hist(treat_df[col] * inv_tr_ps, bins=10, alpha=0.5)\n",
    "    plt.hist(control_df[col] * inv_ct_ps, bins=10, alpha=0.5)\n",
    "    plt.title(col)\n",
    "plt.tight_layout()\n",
    "plt.show()\n",
    "\n",
    "# 傾向スコアの逆数を乗じて補正(IPW, truncated)\n",
    "ps_min, ps_max = 0.05, 0.95\n",
    "inv_tr_ps = 1 / np.clip(treat_ps_lr, ps_min, ps_max)\n",
    "inv_ct_ps = 1 / np.clip(1 - control_ps_lr, ps_min, ps_max)\n",
    "plt.figure(figsize=(18, 4))\n",
    "plt.suptitle('IPW, truncated', fontsize=16)\n",
    "for idx in range(12):\n",
    "    col = f'f{idx}'\n",
    "    plt.subplot(2, 6, idx+1)\n",
    "    plt.hist(treat_df[col] * inv_tr_ps, bins=10, alpha=0.5)\n",
    "    plt.hist(control_df[col] * inv_ct_ps, bins=10, alpha=0.5)\n",
    "    plt.title(col)\n",
    "plt.tight_layout()\n",
    "plt.show()\n",
    "\n",
    "# 傾向スコアの逆数を乗じて補正(IPW, discarded)\n",
    "is_valid_tr = np.where((treat_ps_lr > ps_min) & (treat_ps_lr < ps_max), 1, 0)\n",
    "is_valid_ct = np.where((1 - control_ps_lr > ps_min) & (1 - control_ps_lr < ps_max), 1, 0)\n",
    "inv_tr_ps = 1 / treat_ps_lr\n",
    "inv_ct_ps = 1 / (1 - control_ps_lr)\n",
    "plt.figure(figsize=(18, 4))\n",
    "plt.suptitle('IPW, discarded', fontsize=16)\n",
    "for idx in range(12):\n",
    "    col = f'f{idx}'\n",
    "    plt.subplot(2, 6, idx+1)\n",
    "    plt.hist((treat_df[col] * inv_tr_ps).loc[is_valid_tr == 1], bins=10, alpha=0.5)\n",
    "    plt.hist((control_df[col] * inv_ct_ps).loc[is_valid_ct == 1], bins=10, alpha=0.5)\n",
    "    plt.title(col)\n",
    "plt.tight_layout()\n",
    "plt.show()\n",
    "\n",
    "# overlap weightを加えた傾向スコアの逆数を乗じて補正(overlap weight)\n",
    "inv_tr_ps = np.clip(1 - treat_ps_lr, ps_min, ps_max)\n",
    "inv_ct_ps = np.clip(control_ps_lr, ps_min, ps_max)\n",
    "plt.figure(figsize=(18, 4))\n",
    "plt.suptitle('overlap weight', fontsize=16)\n",
    "for idx in range(12):\n",
    "    col = f'f{idx}'\n",
    "    plt.subplot(2, 6, idx+1)\n",
    "    plt.hist(treat_df[col] * inv_tr_ps, bins=10, alpha=0.5)\n",
    "    plt.hist(control_df[col] * inv_ct_ps, bins=10, alpha=0.5)\n",
    "    #sns.distplot(treat_df[col] * inv_tr_ps, kde = True)\n",
    "    #sns.distplot(control_df[col] * inv_ct_ps, kde = True)\n",
    "    plt.title(col)\n",
    "plt.tight_layout()\n",
    "plt.show()"
   ]
  },
  {
   "cell_type": "markdown",
   "metadata": {},
   "source": [
    "# Prepare functions"
   ]
  },
  {
   "cell_type": "code",
   "execution_count": null,
   "metadata": {
    "colab": {},
    "colab_type": "code",
    "id": "Hi10lzggJ6HW"
   },
   "outputs": [],
   "source": [
    "def absolute_standardized_difference(treat, control):\n",
    "    sd = (treat.mean() - control.mean()) / np.sqrt((treat.var() + control.var()) / 2)\n",
    "    return abs(sd)\n",
    "\n",
    "def covariate_balances(df, pair_df, t_col, vis_cols):\n",
    "    tr_df = df[df[t_col] == 1].reset_index(drop=True)\n",
    "    ct_df = df[df[t_col] == 0].reset_index(drop=True)\n",
    "    pair_tr_df = pair_df[pair_df[t_col] == 1].reset_index(drop=True)\n",
    "    pair_ct_df = pair_df[pair_df[t_col] == 0].reset_index(drop=True)\n",
    "    sd_list = []\n",
    "    for col in vis_cols:\n",
    "        sd_biased = absolute_standardized_difference(tr_df[col], ct_df[col])\n",
    "        sd_adjusted = absolute_standardized_difference(pair_tr_df[col], pair_ct_df[col])\n",
    "        sd_list.append([sd_biased, sd_adjusted])\n",
    "        print(f'col: {col :<24}, SD(biased): {sd_biased :.6f}, SD(matched): {sd_adjusted :.6f}')\n",
    "\n",
    "    sd_arr = np.array(sd_list)\n",
    "    plt.figure(figsize=(6, 6))\n",
    "    plt.rcParams[\"font.size\"] = 12\n",
    "    plt.scatter(vis_cols, sd_arr[:, 0], label='unadjusted')\n",
    "    plt.scatter(vis_cols, sd_arr[:, 1], label='adjusted')\n",
    "    plt.hlines(y=0.1, xmin=-1, xmax=len(vis_cols), linestyles='dotted', linewidths=0.5)\n",
    "    plt.xlim(-0.5, len(vis_cols) - 0.5)\n",
    "    plt.xticks(rotation=90)\n",
    "    plt.legend(loc='best')\n",
    "    plt.ylabel('Absolute mean distance')\n",
    "    plt.title('Covariate balances')\n",
    "    plt.grid()\n",
    "    plt.tight_layout()\n",
    "    plt.show();"
   ]
  },
  {
   "cell_type": "code",
   "execution_count": null,
   "metadata": {},
   "outputs": [],
   "source": [
    "def show_survival_curve(df, t_col, y_col, max_time, censor_col=None, vis_days=None):\n",
    "    plt.figure(figsize=(8, 6))\n",
    "    plt.rcParams[\"font.size\"] = 14\n",
    "    colors = ['blue', 'red', 'magenta']\n",
    "\n",
    "    tr_uniq = np.sort(df[t_col].unique())\n",
    "    for d in vis_days:\n",
    "        plt.text(d, 0.6, f'RR({d}day)', \n",
    "                 horizontalalignment='center',\n",
    "                 verticalalignment='center')\n",
    "    for i, tr in enumerate(tr_uniq):\n",
    "        tr_df = df[y_col].loc[df[t_col] == tr]\n",
    "        _max = int(tr_df[tr_df <= max_time].max())\n",
    "        curve = np.array([(tr_df > i).sum() for i in range(_max)])\n",
    "        curve = curve / len(tr_df)\n",
    "        plt.plot(curve, label=f'tr={tr}', c=colors[i])\n",
    "        for d in vis_days:\n",
    "            plt.scatter(d, curve[d], marker='o', c=colors[i])\n",
    "            plt.text(d, 0.6 - 0.02*(i+1), f'{curve[d] :.3f}', c=colors[i],\n",
    "                     horizontalalignment='center',\n",
    "                     verticalalignment='center')\n",
    "\n",
    "    plt.xlim(-3, 33)\n",
    "    plt.ylim(0.5, 1.05)\n",
    "    plt.xlabel('Elapsed days')\n",
    "    plt.ylabel('Survival probability')\n",
    "    plt.legend(loc='best')\n",
    "    plt.grid()\n",
    "    plt.tight_layout()\n",
    "    plt.show();\n",
    "    \n",
    "def survival_treatment_effect(input_df, t_col, y_col):\n",
    "    cols = [t_col, y_col]\n",
    "    tmp_df = input_df[cols]\n",
    "    tmp_df['censor'] = 1    # log-rank検定のためにとりあえず入れておく\n",
    "\n",
    "    _, pvalue = sm.duration.survdiff(\n",
    "        tmp_df[y_col], tmp_df['censor'], tmp_df[t_col])\n",
    "    print(f'log-rank test, p-value: {pvalue :>0.6f}')\n",
    "\n",
    "    show_survival_curve(\n",
    "        tmp_df, t_col=t_col, y_col=y_col, \n",
    "        max_time=30, vis_days=[0, 9, 18, 27])"
   ]
  },
  {
   "cell_type": "code",
   "execution_count": null,
   "metadata": {},
   "outputs": [],
   "source": [
    "def average_treatment_effect(treated_outcome, control_outcome, at_type='att'):\n",
    "    treatment_effect = treated_outcome.mean() - control_outcome.mean()\n",
    "    _, pvalue = stats.ttest_ind(treated_outcome, control_outcome, equal_var=False)\n",
    "    \n",
    "    print(f'Treatment outcome: {treated_outcome.mean() :.6f}')\n",
    "    print(f'Control outcome:   {control_outcome.mean() :.6f}')\n",
    "    print(f'{at_type.upper()}(matching):     {treatment_effect :.6f}, (p-value={pvalue :.6f})')\n",
    "    \n",
    "    return treatment_effect"
   ]
  },
  {
   "cell_type": "code",
   "execution_count": null,
   "metadata": {
    "colab": {},
    "colab_type": "code",
    "id": "rW3qhKKTJ6KY"
   },
   "outputs": [],
   "source": [
    "from sklearn.neighbors import NearestNeighbors\n",
    "\n",
    "def matching(treated, control, ps_col, caliper=None):\n",
    "    nn = NearestNeighbors(n_neighbors=1, algorithm='ball_tree')\n",
    "    control_neighbors = nn.fit(control[ps_col].values.reshape(-1, 1))\n",
    "    distances, indices = control_neighbors.kneighbors(treated[ps_col].values.reshape(-1, 1))\n",
    "\n",
    "    if caliper == None:\n",
    "        caliper = 1.e+10\n",
    "        print(f'Caliper is set to a large value, all samples will be used.')\n",
    "        \n",
    "    use_idx = np.where(distances.reshape(-1) <= caliper)\n",
    "    distances = distances[use_idx]\n",
    "    indices = indices[use_idx]\n",
    "    num_treated = len(distances)\n",
    "    \n",
    "    return use_idx, indices, num_treated\n",
    "\n",
    "def treatment_effect_by_matching(df, t_col, ps_col, caliper=None, \n",
    "                                 estimand='only_matching', vis_cols=None, y_col=None):\n",
    "    \"\"\"\n",
    "    Parameters\n",
    "    ----------\n",
    "    estimand : {'only_matching', 'average', 'survival'}, default = None\n",
    "        Estimand as a result of matching operation.\n",
    "        - 'only_matching' will calculate only matching operation without\n",
    "          estimand.\n",
    "        - 'average' will estimate an usual average treatment effect \n",
    "          as the difference between matched groups. `y_col` is required.\n",
    "        - 'survival' will estimate survival curves in each group.\n",
    "          `y_col` is required.\n",
    "          \n",
    "    Returns\n",
    "    -------\n",
    "    att_pair_df : pandas dataframe\n",
    "        Matched pair dataframe in ATT.\n",
    "        \n",
    "    atc_pair_df : pandas dataframe\n",
    "        Matched pair dataframe in ATC.\n",
    "    \"\"\"\n",
    "    if estimand == 'only_matching':\n",
    "        assert vis_cols != None, 'vis_cols is required.'\n",
    "    elif estimand == 'average':\n",
    "        assert y_col != None, 'y_col is required.'\n",
    "    elif estimand == 'survival':\n",
    "        assert y_col != None, 'y_col is required.'\n",
    "    \n",
    "    t0 = time()\n",
    "    treated = df.loc[df[t_col] == 1].reset_index(drop=True)\n",
    "    control = df.loc[df[t_col] == 0].reset_index(drop=True)\n",
    "\n",
    "    #--------------------------------\n",
    "    # Treat-based matching\n",
    "    #--------------------------------\n",
    "    # matched indices\n",
    "    print('\\nATT matching....')\n",
    "    use_idx, indices, num_treated = matching(treated, control, ps_col, caliper=caliper)\n",
    "    print(f'# of matched pairs: {num_treated} ({num_treated / len(treated) :.3f} of all records)')\n",
    "\n",
    "    # matched pair dataframes\n",
    "    att_pair_df = pd.concat([\n",
    "        pd.DataFrame(treated.values[use_idx]),\n",
    "        pd.DataFrame(control.values[indices.reshape(-1), :])\n",
    "    ]).reset_index(drop=True)\n",
    "    att_pair_df.columns = [c for c in df.columns]\n",
    "    \n",
    "    # show results of ATT\n",
    "    if estimand == 'only_matching':\n",
    "        covariate_balances(df, att_pair_df, t_col, vis_cols)\n",
    "    elif estimand == 'average':\n",
    "        treated_outcome = treated[y_col].values[use_idx]\n",
    "        control_outcome = control[y_col].values[indices.reshape(-1)]\n",
    "        att = average_treatment_effect(treated_outcome, control_outcome, at_type='att')\n",
    "    elif estimand == 'survival':\n",
    "        survival_treatment_effect(att_pair_df, t_col=t_col, y_col=y_col)\n",
    "    \n",
    "    #--------------------------------\n",
    "    # Control-based matching\n",
    "    #--------------------------------\n",
    "    # matched indices\n",
    "    print('\\nATC matching....')\n",
    "    use_idx, indices, num_control = matching(control, treated, ps_col, caliper=caliper)\n",
    "    print(f'# of matched pairs: {num_control} ({num_control / len(control) :.3f} of all records)')\n",
    "\n",
    "    # matched pair dataframes\n",
    "    atc_pair_df = pd.concat([\n",
    "        pd.DataFrame(treated.values[indices.reshape(-1), :]),\n",
    "        pd.DataFrame(control.values[use_idx])\n",
    "    ]).reset_index(drop=True)\n",
    "    atc_pair_df.columns = [c for c in df.columns]\n",
    "    \n",
    "    # show results of ATC\n",
    "    if estimand == 'only_matching':\n",
    "        pass\n",
    "    elif estimand == 'average':\n",
    "        treated_outcome = treated[y_col].values[indices.reshape(-1)]\n",
    "        control_outcome = control[y_col].values[use_idx]\n",
    "        atc = average_treatment_effect(treated_outcome, control_outcome, at_type='atc')\n",
    "    elif estimand == 'survival':\n",
    "        survival_treatment_effect(atc_pair_df, t_col=t_col, y_col=y_col)\n",
    "\n",
    "    #--------------------------------\n",
    "    # ATE from weghted-average\n",
    "    #--------------------------------\n",
    "    if estimand == 'average':\n",
    "        ate = (att * num_treated + atc * num_control) / (num_treated + num_control)\n",
    "        print(f'\\nATE(matching): {ate :.6f}')\n",
    "\n",
    "    print(f'\\nEnd in {time() - t0 :.2f}s.')\n",
    "\n",
    "    return att_pair_df, atc_pair_df"
   ]
  },
  {
   "cell_type": "markdown",
   "metadata": {},
   "source": [
    "# Treatment effect (PS-matching)"
   ]
  },
  {
   "cell_type": "markdown",
   "metadata": {},
   "source": [
    "## Covariate balances"
   ]
  },
  {
   "cell_type": "code",
   "execution_count": null,
   "metadata": {},
   "outputs": [],
   "source": [
    "ps_col = 'propensity_lr'\n",
    "visualize_cols = [c for c in merged_df.columns if c not in [\n",
    "    treat_col, 'propensity_lr', 'propensity_rf' #, outcome_col\n",
    "]]\n",
    "att_pair_df, atc_pair_df = treatment_effect_by_matching(\n",
    "    merged_df, t_col=treat_col, ps_col=ps_col, #caliper=1.e-1\n",
    "    vis_cols=visualize_cols)"
   ]
  },
  {
   "cell_type": "markdown",
   "metadata": {},
   "source": [
    "## Conversion rate"
   ]
  },
  {
   "cell_type": "code",
   "execution_count": null,
   "metadata": {},
   "outputs": [],
   "source": [
    "outcome_col = 'is_pay'\n",
    "\n",
    "# 調整前\n",
    "cvr_tr = df.loc[df[treat_col]==1, outcome_col].mean()\n",
    "cvr_ct = df.loc[df[treat_col]==0, outcome_col].mean()\n",
    "print('Unadjusted estimation:')\n",
    "print(f'CVR(treatment): {cvr_tr :.6f}')\n",
    "print(f'CVR(control):   {cvr_ct :.6f}')\n",
    "print(f'ATE(biased):    {cvr_tr - cvr_ct :.6f}')\n",
    "\n",
    "# 調整後\n",
    "merged_df[outcome_col] = df[outcome_col]\n",
    "att_pair_df, atc_pair_df = treatment_effect_by_matching(\n",
    "    merged_df, t_col=treat_col, ps_col=ps_col, \n",
    "    estimand='average', y_col=outcome_col)"
   ]
  },
  {
   "cell_type": "markdown",
   "metadata": {},
   "source": [
    "## Payment amount"
   ]
  },
  {
   "cell_type": "code",
   "execution_count": null,
   "metadata": {},
   "outputs": [],
   "source": [
    "outcome_col = 'pay_amt'\n",
    "\n",
    "# 調整前\n",
    "amt_tr = df.loc[df[treat_col]==1, outcome_col].mean()\n",
    "amt_ct = df.loc[df[treat_col]==0, outcome_col].mean()\n",
    "print('Unadjusted estimation:')\n",
    "print(f'CVR(treatment): {amt_tr :.6f}')\n",
    "print(f'CVR(control):   {amt_ct :.6f}')\n",
    "print(f'ATE(biased):    {amt_tr - amt_ct :.6f}')\n",
    "\n",
    "# 調整後\n",
    "merged_df[outcome_col] = df[outcome_col]\n",
    "att_pair_df, atc_pair_df = treatment_effect_by_matching(\n",
    "    merged_df, t_col=treat_col, ps_col=ps_col, \n",
    "    estimand='average', y_col=outcome_col)"
   ]
  },
  {
   "cell_type": "markdown",
   "metadata": {},
   "source": [
    "## Retention"
   ]
  },
  {
   "cell_type": "markdown",
   "metadata": {},
   "source": [
    "### No-access in sequential 7days"
   ]
  },
  {
   "cell_type": "code",
   "execution_count": null,
   "metadata": {},
   "outputs": [],
   "source": [
    "outcome_col = 'event_time'\n",
    "\n",
    "# 調整前\n",
    "cols = [outcome_col, treat_col]\n",
    "merged_df[outcome_col] = df[outcome_col]\n",
    "input_df = merged_df[cols]\n",
    "input_df['censor'] = 1    # とりあえず入れておく\n",
    "chisq, pvalue = sm.duration.survdiff(\n",
    "    input_df[outcome_col], input_df['censor'], input_df[treat_col])\n",
    "\n",
    "print('Unadjusted survival curves')\n",
    "print(f'log-rank test, p-value: {pvalue :>0.6f}')\n",
    "show_survival_curve(\n",
    "    input_df, t_col=treat_col, y_col=outcome_col, \n",
    "    max_time=30, vis_days=[0, 9, 18, 27])\n",
    "\n",
    "# 調整後\n",
    "merged_df[outcome_col] = df[outcome_col]\n",
    "att_pair_df, atc_pair_df = treatment_effect_by_matching(\n",
    "    merged_df, t_col=treat_col, ps_col=ps_col, \n",
    "    estimand='survival', y_col=outcome_col)"
   ]
  },
  {
   "cell_type": "markdown",
   "metadata": {},
   "source": [
    "### The day ofter last date in the term"
   ]
  },
  {
   "cell_type": "code",
   "execution_count": null,
   "metadata": {},
   "outputs": [],
   "source": [
    "outcome_col = 'event_time_last'\n",
    "\n",
    "# 調整前\n",
    "cols = [outcome_col, treat_col]\n",
    "merged_df[outcome_col] = df[outcome_col]\n",
    "input_df = merged_df[cols]\n",
    "input_df['censor'] = 1    # とりあえず入れておく\n",
    "chisq, pvalue = sm.duration.survdiff(\n",
    "    input_df[outcome_col], input_df['censor'], input_df[treat_col])\n",
    "\n",
    "print('Unadjusted survival curves')\n",
    "print(f'log-rank test, p-value: {pvalue :>0.6f}')\n",
    "show_survival_curve(\n",
    "    input_df, t_col=treat_col, y_col=outcome_col, \n",
    "    max_time=30, vis_days=[0, 9, 18, 27])\n",
    "\n",
    "# 調整後\n",
    "merged_df[outcome_col] = df[outcome_col]\n",
    "att_pair_df, atc_pair_df = treatment_effect_by_matching(\n",
    "    merged_df, t_col=treat_col, ps_col=ps_col, \n",
    "    estimand='survival', y_col=outcome_col)"
   ]
  },
  {
   "cell_type": "markdown",
   "metadata": {},
   "source": [
    "# Sensitivity Analysis\n",
    "- [Sensitivity Analysis without Assumptions, Ding and VanderWeele (2016)](https://www.ncbi.nlm.nih.gov/pmc/articles/PMC4820664/)"
   ]
  },
  {
   "cell_type": "code",
   "execution_count": null,
   "metadata": {},
   "outputs": [],
   "source": [
    "def get_evalue_curve(tr, ct):\n",
    "    # risk ratio\n",
    "    rr = tr_est / ct_est if tr_est / ct_est >= 1. else ct_est / tr_est\n",
    "    evalue = rr + np.sqrt(rr * (rr - 1))\n",
    "\n",
    "    print(f'Est. risk ratio: {rr :.4f}')\n",
    "    print(f'E-value:         {evalue :.4f}')\n",
    "\n",
    "    # visualize\n",
    "    x_max = math.ceil(evalue * 3)\n",
    "    y_max = x_max\n",
    "    x_start = rr * (1 - y_max) / (rr - y_max)\n",
    "    x = np.arange(x_start, x_max, 0.02)\n",
    "    y = rr * (1 - x) / (rr - x)\n",
    "\n",
    "    plt.figure(figsize=(6, 6))\n",
    "    plt.rcParams[\"font.size\"] = 12\n",
    "    plt.plot(x, y, 'b:', label='boundary')\n",
    "    plt.scatter(evalue, evalue, c='r', label='E-value')\n",
    "    plt.text(evalue * 0.5, evalue * 0.5, 'significant-effect zone',\n",
    "             horizontalalignment='left', verticalalignment='center')\n",
    "    plt.text(evalue * 1.5, evalue * 1.5, 'null-effect zone',\n",
    "             horizontalalignment='center', verticalalignment='center')\n",
    "    plt.text(evalue, evalue, f'({evalue :.2f}, {evalue :.2f})')\n",
    "    plt.xlim(0, x_max)\n",
    "    plt.ylim(0, y_max)\n",
    "    plt.xlabel('RR(UX)')\n",
    "    plt.ylabel('RR(UY)')\n",
    "    plt.grid()\n",
    "    plt.legend(loc='best')\n",
    "    plt.show()\n",
    "    \n",
    "print('\\nATT case:')\n",
    "tr_est = att_pair_df.loc[att_pair_df[treat_col]==1, outcome_col].mean()\n",
    "ct_est = att_pair_df.loc[att_pair_df[treat_col]==0, outcome_col].mean()\n",
    "get_evalue_curve(tr_est, ct_est)\n",
    "\n",
    "print('\\nATC case:')\n",
    "tr_est = atc_pair_df.loc[atc_pair_df[treat_col]==1, outcome_col].mean()\n",
    "ct_est = atc_pair_df.loc[atc_pair_df[treat_col]==0, outcome_col].mean()\n",
    "get_evalue_curve(tr_est, ct_est)"
   ]
  },
  {
   "cell_type": "markdown",
   "metadata": {
    "colab_type": "text",
    "id": "lQy9ChcRKLio"
   },
   "source": [
    "# IPW, Overlap weight\n",
    "**Overlap weight**\n",
    "- https://speakerdeck.com/tomoshige_n/causal-inference-and-data-analysis?slide=37\n",
    "- http://www2.stat.duke.edu/~fl35/OW/MultiTrt_talk.pdf"
   ]
  },
  {
   "cell_type": "code",
   "execution_count": null,
   "metadata": {
    "colab": {},
    "colab_type": "code",
    "id": "Z269qlEjJ6E_"
   },
   "outputs": [],
   "source": [
    "ps_min, ps_max = 0.01, 0.99\n",
    "#ps_min, ps_max = 0.1, 0.9    # Li et al., 2018\n",
    "tr = merged_df[treat_col].values\n",
    "ps = merged_df[ps_col].values\n",
    "ps = np.clip(ps, ps_min, ps_max)\n",
    "outcome = merged_df[outcome_col].values\n",
    "\n",
    "ipwe0 = ((1 - tr) * outcome / (1 - ps)).sum() / ((1 - tr) / (1 - ps)).sum()\n",
    "ipwe1 = (tr * outcome / ps).sum() / (tr / ps).sum()\n",
    "print(f'ATE(IPW): {ipwe1 - ipwe0 :.6f}')\n",
    "\n",
    "owe0 = ((1 - tr) * outcome * ps).sum() / ((1 - tr) * ps).sum()\n",
    "owe1 = (tr * outcome * (1 - ps)).sum() / (tr * (1 - ps)).sum()\n",
    "print(f'ATE(overlap weight): {owe1 - owe0 :.6f}')"
   ]
  },
  {
   "cell_type": "code",
   "execution_count": null,
   "metadata": {
    "colab": {},
    "colab_type": "code",
    "id": "NSd4_ii1J6Bs"
   },
   "outputs": [],
   "source": [
    "def show_result(arr, cols, adusted_label):\n",
    "    plt.scatter(cols, arr[:, 0], label='biased')\n",
    "    plt.scatter(cols, arr[:, 1], label=adusted_label)\n",
    "    plt.hlines(y=0.1, xmin=-1, xmax=len(vis_cols), linestyles='dotted', linewidths=0.5)\n",
    "    plt.xlim(-0.5, len(vis_cols) - 0.5)\n",
    "    plt.xticks(rotation=90)\n",
    "    plt.legend(loc='best')\n",
    "    plt.title(adusted_label)\n",
    "\n",
    "plt.figure(figsize=(12, 12))\n",
    "vis_cols = [c for c in merged_df.columns \n",
    "            if c not in [treat_col, outcome_col, 'propensity_lr', 'propensity_rf']]\n",
    "\n",
    "# IPW\n",
    "print('\\nStandardized difference for covariates using IPW')\n",
    "sd_list = []\n",
    "for col in vis_cols:\n",
    "    tr_df = merged_df.loc[merged_df[treat_col]==1, col].reset_index(drop=True)\n",
    "    ct_df = merged_df.loc[merged_df[treat_col]==0, col].reset_index(drop=True)\n",
    "    tr_ps = merged_df.loc[merged_df[treat_col]==1, ps_col].values\n",
    "    ct_ps = merged_df.loc[merged_df[treat_col]==0, ps_col].values\n",
    "    sd_biased = absolute_standardized_difference(tr_df, ct_df)\n",
    "    sd_adjusted = absolute_standardized_difference(tr_df / tr_ps, ct_df / (1 - ct_ps))\n",
    "    sd_list.append([sd_biased, sd_adjusted])\n",
    "    print(f'col: {col :<26}, SD(biased): {sd_biased :.6f}, SD(matched): {sd_adjusted :.6f}')\n",
    "    \n",
    "plt.subplot(2, 2, 1)\n",
    "show_result(np.array(sd_list), vis_cols, 'IPW')\n",
    "\n",
    "# IPW, truncated\n",
    "print('\\nStandardized difference for covariates using truncated IPW')\n",
    "sd_list = []\n",
    "for col in vis_cols:\n",
    "    tr_df = merged_df.loc[merged_df[treat_col]==1, col].reset_index(drop=True)\n",
    "    ct_df = merged_df.loc[merged_df[treat_col]==0, col].reset_index(drop=True)\n",
    "    tr_ps = merged_df.loc[merged_df[treat_col]==1, ps_col].values\n",
    "    ct_ps = merged_df.loc[merged_df[treat_col]==0, ps_col].values\n",
    "    inv_tr_ps = 1 / np.clip(tr_ps, ps_min, ps_max)\n",
    "    inv_ct_ps = 1 / np.clip(1 - ct_ps, ps_min, ps_max)\n",
    "    sd_biased = absolute_standardized_difference(tr_df, ct_df)\n",
    "    sd_adjusted = absolute_standardized_difference(tr_df * inv_tr_ps, ct_df * inv_ct_ps)\n",
    "    sd_list.append([sd_biased, sd_adjusted])\n",
    "    print(f'col: {col :<26}, SD(biased): {sd_biased :.6f}, SD(matched): {sd_adjusted :.6f}')\n",
    "\n",
    "plt.subplot(2, 2, 2)\n",
    "show_result(np.array(sd_list), vis_cols, 'IPW, truncated')\n",
    "\n",
    "# IPW, discarded\n",
    "print('\\nStandardized difference for covariates using discarded IPW')\n",
    "sd_list = []\n",
    "for col in vis_cols:\n",
    "    tr_df = merged_df.loc[merged_df[treat_col]==1, col].reset_index(drop=True)\n",
    "    ct_df = merged_df.loc[merged_df[treat_col]==0, col].reset_index(drop=True)\n",
    "    tr_ps = merged_df.loc[merged_df[treat_col]==1, ps_col].values\n",
    "    ct_ps = merged_df.loc[merged_df[treat_col]==0, ps_col].values\n",
    "    is_valid_tr = np.where((tr_ps > ps_min) & (tr_ps < ps_max), 1, 0)\n",
    "    is_valid_ct = np.where((1 - ct_ps > ps_min) & (1 - ct_ps < ps_max), 1, 0)\n",
    "    inv_tr_ps = 1 / tr_ps\n",
    "    inv_ct_ps = 1 / (1 - ct_ps)\n",
    "    sd_biased = absolute_standardized_difference(tr_df, ct_df)\n",
    "    sd_adjusted = absolute_standardized_difference(tr_df * inv_tr_ps, ct_df * inv_ct_ps)\n",
    "    sd_list.append([sd_biased, sd_adjusted])\n",
    "    print(f'col: {col :<26}, SD(biased): {sd_biased :.6f}, SD(matched): {sd_adjusted :.6f}')\n",
    "\n",
    "plt.subplot(2, 2, 3)\n",
    "show_result(np.array(sd_list), vis_cols, 'IPW, discarded')\n",
    "\n",
    "# overlap weight\n",
    "print('\\nStandardized difference for covariates using overlap weight')\n",
    "sd_list = []\n",
    "for col in vis_cols:\n",
    "    tr_df = merged_df.loc[merged_df[treat_col]==1, col].reset_index(drop=True)\n",
    "    ct_df = merged_df.loc[merged_df[treat_col]==0, col].reset_index(drop=True)\n",
    "    tr_ps = merged_df.loc[merged_df[treat_col]==1, ps_col].values\n",
    "    ct_ps = merged_df.loc[merged_df[treat_col]==0, ps_col].values\n",
    "    sd_biased = absolute_standardized_difference(tr_df, ct_df)\n",
    "    sd_adjusted = absolute_standardized_difference(tr_df * (1 - tr_ps), ct_df * ct_ps)\n",
    "    sd_list.append([sd_biased, sd_adjusted])\n",
    "    print(f'col: {col :<26}, SD(biased): {sd_biased :.6f}, SD(matched): {sd_adjusted :.6f}')\n",
    "\n",
    "plt.subplot(2, 2, 4)\n",
    "show_result(np.array(sd_list), vis_cols, 'overlap weight')\n",
    "\n",
    "plt.tight_layout()\n",
    "plt.show();"
   ]
  },
  {
   "cell_type": "code",
   "execution_count": null,
   "metadata": {
    "colab": {},
    "colab_type": "code",
    "id": "mzD1n6PiJ59s"
   },
   "outputs": [],
   "source": []
  },
  {
   "cell_type": "code",
   "execution_count": null,
   "metadata": {
    "colab": {},
    "colab_type": "code",
    "id": "Nfom3s2RJoMb"
   },
   "outputs": [],
   "source": []
  },
  {
   "cell_type": "code",
   "execution_count": null,
   "metadata": {
    "colab": {},
    "colab_type": "code",
    "id": "to9kuODIJoJV"
   },
   "outputs": [],
   "source": []
  },
  {
   "cell_type": "code",
   "execution_count": null,
   "metadata": {
    "colab": {},
    "colab_type": "code",
    "id": "-FJF94bgJoGR"
   },
   "outputs": [],
   "source": []
  },
  {
   "cell_type": "code",
   "execution_count": null,
   "metadata": {
    "colab": {},
    "colab_type": "code",
    "id": "FCPvWKEhJn-6"
   },
   "outputs": [],
   "source": []
  },
  {
   "cell_type": "code",
   "execution_count": null,
   "metadata": {
    "colab": {},
    "colab_type": "code",
    "id": "hK9W_DJTg2Rq"
   },
   "outputs": [],
   "source": []
  }
 ],
 "metadata": {
  "colab": {
   "authorship_tag": "ABX9TyNN3yKGXj4clYhFXKUJHHcI",
   "collapsed_sections": [],
   "name": "portrait_brave.ipynb",
   "provenance": [],
   "toc_visible": true
  },
  "kernelspec": {
   "display_name": "Python 3",
   "language": "python",
   "name": "python3"
  },
  "language_info": {
   "codemirror_mode": {
    "name": "ipython",
    "version": 3
   },
   "file_extension": ".py",
   "mimetype": "text/x-python",
   "name": "python",
   "nbconvert_exporter": "python",
   "pygments_lexer": "ipython3",
   "version": "3.7.6"
  }
 },
 "nbformat": 4,
 "nbformat_minor": 4
}
