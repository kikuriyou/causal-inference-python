{
 "cells": [
  {
   "cell_type": "code",
   "execution_count": 1,
   "metadata": {
    "colab": {},
    "colab_type": "code",
    "id": "Jp2JLSsmltrH"
   },
   "outputs": [],
   "source": [
    "import os\n",
    "from time import time\n",
    "import math\n",
    "import random\n",
    "import gc\n",
    "import warnings\n",
    "\n",
    "import numpy as np\n",
    "from scipy import stats\n",
    "import pandas as pd\n",
    "import matplotlib.pyplot as plt\n",
    "import seaborn as sns\n",
    "\n",
    "from prep import load_data\n",
    "\n",
    "warnings.filterwarnings('ignore')\n",
    "np.random.seed(123)\n",
    "plt.style.use('seaborn-dark')"
   ]
  },
  {
   "cell_type": "code",
   "execution_count": 2,
   "metadata": {
    "colab": {
     "base_uri": "https://localhost:8080/",
     "height": 462
    },
    "colab_type": "code",
    "executionInfo": {
     "elapsed": 262582,
     "status": "ok",
     "timestamp": 1580183492030,
     "user": {
      "displayName": "Akira Kikusato",
      "photoUrl": "",
      "userId": "07236968696701566936"
     },
     "user_tz": -540
    },
    "id": "ZEvSHNHEltok",
    "outputId": "8f51964c-f30e-4b77-be9a-1be53ae72dd4"
   },
   "outputs": [
    {
     "name": "stdout",
     "output_type": "stream",
     "text": [
      "Loading dataset...\n"
     ]
    },
    {
     "name": "stderr",
     "output_type": "stream",
     "text": [
      "Downloading: 100%|██████████| 1771649/1771649 [02:24<00:00, 12279.48rows/s]\n"
     ]
    },
    {
     "name": "stdout",
     "output_type": "stream",
     "text": [
      "End in 180.67s.\n",
      "shape: (1771649, 7)\n"
     ]
    },
    {
     "data": {
      "text/html": [
       "<div>\n",
       "<style scoped>\n",
       "    .dataframe tbody tr th:only-of-type {\n",
       "        vertical-align: middle;\n",
       "    }\n",
       "\n",
       "    .dataframe tbody tr th {\n",
       "        vertical-align: top;\n",
       "    }\n",
       "\n",
       "    .dataframe thead th {\n",
       "        text-align: right;\n",
       "    }\n",
       "</style>\n",
       "<table border=\"1\" class=\"dataframe\">\n",
       "  <thead>\n",
       "    <tr style=\"text-align: right;\">\n",
       "      <th></th>\n",
       "      <th>appUserId</th>\n",
       "      <th>freq</th>\n",
       "      <th>vc_possession</th>\n",
       "      <th>vc_poss_round300</th>\n",
       "      <th>vc_poss_round3000</th>\n",
       "      <th>pay_amt</th>\n",
       "      <th>is_pay</th>\n",
       "    </tr>\n",
       "  </thead>\n",
       "  <tbody>\n",
       "    <tr>\n",
       "      <th>0</th>\n",
       "      <td>f508d04a00529fe8</td>\n",
       "      <td>22~31</td>\n",
       "      <td>23820.0</td>\n",
       "      <td>23700.0</td>\n",
       "      <td>21000.0</td>\n",
       "      <td>0.0</td>\n",
       "      <td>0</td>\n",
       "    </tr>\n",
       "    <tr>\n",
       "      <th>1</th>\n",
       "      <td>ba0ae1f7e8c24091</td>\n",
       "      <td>8~21</td>\n",
       "      <td>41740.0</td>\n",
       "      <td>41700.0</td>\n",
       "      <td>39000.0</td>\n",
       "      <td>0.0</td>\n",
       "      <td>0</td>\n",
       "    </tr>\n",
       "  </tbody>\n",
       "</table>\n",
       "</div>"
      ],
      "text/plain": [
       "          appUserId   freq  vc_possession  vc_poss_round300  \\\n",
       "0  f508d04a00529fe8  22~31        23820.0           23700.0   \n",
       "1  ba0ae1f7e8c24091   8~21        41740.0           41700.0   \n",
       "\n",
       "   vc_poss_round3000  pay_amt  is_pay  \n",
       "0            21000.0      0.0       0  \n",
       "1            39000.0      0.0       0  "
      ]
     },
     "metadata": {},
     "output_type": "display_data"
    }
   ],
   "source": [
    "PROJECT = 'npf-kenya-3b8d4a7'\n",
    "input_dir = '../input'\n",
    "pkl_file = os.path.join(input_dir, 'possession_all_freq.pkl')\n",
    "\n",
    "df = load_data(PROJECT, pkl_file)\n",
    "print(f'shape: {df.shape}')\n",
    "display(df.head(2))"
   ]
  },
  {
   "cell_type": "markdown",
   "metadata": {},
   "source": [
    "# Check dataset"
   ]
  },
  {
   "cell_type": "code",
   "execution_count": 3,
   "metadata": {
    "colab": {
     "base_uri": "https://localhost:8080/",
     "height": 170
    },
    "colab_type": "code",
    "executionInfo": {
     "elapsed": 822,
     "status": "ok",
     "timestamp": 1580183628468,
     "user": {
      "displayName": "Akira Kikusato",
      "photoUrl": "",
      "userId": "07236968696701566936"
     },
     "user_tz": -540
    },
    "id": "2r_S1JANGdkN",
    "outputId": "ef2ffb5e-bc88-4d05-e741-516473e31ef6"
   },
   "outputs": [
    {
     "name": "stdout",
     "output_type": "stream",
     "text": [
      "Index(['appUserId', 'freq', 'vc_possession', 'vc_poss_round300',\n",
      "       'vc_poss_round3000', 'pay_amt', 'is_pay'],\n",
      "      dtype='object')\n"
     ]
    }
   ],
   "source": [
    "print(df.columns)"
   ]
  },
  {
   "cell_type": "code",
   "execution_count": 4,
   "metadata": {},
   "outputs": [
    {
     "data": {
      "text/plain": [
       "array(['22~31', '8~21', '1~7'], dtype=object)"
      ]
     },
     "execution_count": 4,
     "metadata": {},
     "output_type": "execute_result"
    }
   ],
   "source": [
    "df['freq'].unique()"
   ]
  },
  {
   "cell_type": "code",
   "execution_count": 5,
   "metadata": {},
   "outputs": [
    {
     "data": {
      "text/html": [
       "<div>\n",
       "<style scoped>\n",
       "    .dataframe tbody tr th:only-of-type {\n",
       "        vertical-align: middle;\n",
       "    }\n",
       "\n",
       "    .dataframe tbody tr th {\n",
       "        vertical-align: top;\n",
       "    }\n",
       "\n",
       "    .dataframe thead th {\n",
       "        text-align: right;\n",
       "    }\n",
       "</style>\n",
       "<table border=\"1\" class=\"dataframe\">\n",
       "  <thead>\n",
       "    <tr style=\"text-align: right;\">\n",
       "      <th></th>\n",
       "      <th>vc_poss_round300</th>\n",
       "      <th>is_pay</th>\n",
       "    </tr>\n",
       "  </thead>\n",
       "  <tbody>\n",
       "    <tr>\n",
       "      <th>0</th>\n",
       "      <td>0.0</td>\n",
       "      <td>0.002263</td>\n",
       "    </tr>\n",
       "    <tr>\n",
       "      <th>1</th>\n",
       "      <td>300.0</td>\n",
       "      <td>0.008002</td>\n",
       "    </tr>\n",
       "    <tr>\n",
       "      <th>2</th>\n",
       "      <td>600.0</td>\n",
       "      <td>0.008093</td>\n",
       "    </tr>\n",
       "    <tr>\n",
       "      <th>3</th>\n",
       "      <td>900.0</td>\n",
       "      <td>0.006708</td>\n",
       "    </tr>\n",
       "    <tr>\n",
       "      <th>4</th>\n",
       "      <td>1200.0</td>\n",
       "      <td>0.008571</td>\n",
       "    </tr>\n",
       "    <tr>\n",
       "      <th>...</th>\n",
       "      <td>...</td>\n",
       "      <td>...</td>\n",
       "    </tr>\n",
       "    <tr>\n",
       "      <th>305</th>\n",
       "      <td>105600.0</td>\n",
       "      <td>0.000000</td>\n",
       "    </tr>\n",
       "    <tr>\n",
       "      <th>306</th>\n",
       "      <td>106500.0</td>\n",
       "      <td>1.000000</td>\n",
       "    </tr>\n",
       "    <tr>\n",
       "      <th>307</th>\n",
       "      <td>107100.0</td>\n",
       "      <td>1.000000</td>\n",
       "    </tr>\n",
       "    <tr>\n",
       "      <th>308</th>\n",
       "      <td>112200.0</td>\n",
       "      <td>0.000000</td>\n",
       "    </tr>\n",
       "    <tr>\n",
       "      <th>309</th>\n",
       "      <td>132300.0</td>\n",
       "      <td>0.000000</td>\n",
       "    </tr>\n",
       "  </tbody>\n",
       "</table>\n",
       "<p>310 rows × 2 columns</p>\n",
       "</div>"
      ],
      "text/plain": [
       "     vc_poss_round300    is_pay\n",
       "0                 0.0  0.002263\n",
       "1               300.0  0.008002\n",
       "2               600.0  0.008093\n",
       "3               900.0  0.006708\n",
       "4              1200.0  0.008571\n",
       "..                ...       ...\n",
       "305          105600.0  0.000000\n",
       "306          106500.0  1.000000\n",
       "307          107100.0  1.000000\n",
       "308          112200.0  0.000000\n",
       "309          132300.0  0.000000\n",
       "\n",
       "[310 rows x 2 columns]"
      ]
     },
     "execution_count": 5,
     "metadata": {},
     "output_type": "execute_result"
    }
   ],
   "source": [
    "df[df['freq']=='22~31'].groupby('vc_poss_round300').mean()['is_pay'].reset_index()"
   ]
  },
  {
   "cell_type": "code",
   "execution_count": 8,
   "metadata": {},
   "outputs": [
    {
     "data": {
      "image/png": "[encoded data removed]",
      "text/plain": [
       "<Figure size 1008x576 with 3 Axes>"
      ]
     },
     "metadata": {},
     "output_type": "display_data"
    }
   ],
   "source": [
    "freqs = ['1~7', '8~21', '22~31']\n",
    "x_max = 24000\n",
    "\n",
    "plt.figure(figsize=(14, 8))\n",
    "plt.rcParams[\"font.size\"] = 12\n",
    "for idx, frq in enumerate(freqs):\n",
    "    tmp = df[df['freq']==frq].groupby('vc_poss_round300').mean()['is_pay'].reset_index()\n",
    "    tmp = tmp[tmp['vc_poss_round300']<x_max].reset_index(drop=True)\n",
    "    tmp = tmp.rename(columns={'is_pay': 'pay_rate'})\n",
    "    x_ticks = np.arange(0, 24000, 3000)\n",
    "\n",
    "    plt.subplot(2, 2, idx+1)\n",
    "    plt.bar(tmp['vc_poss_round300'], tmp['pay_rate'], width=150, linewidth=0)\n",
    "    plt.xlabel('vc_possession')\n",
    "    plt.ylabel('pay_rate')\n",
    "    plt.xticks(x_ticks)\n",
    "    for x in x_ticks:\n",
    "        plt.vlines(x - 150, 0, 0.08, colors='k', linestyles='dotted')\n",
    "    plt.grid()\n",
    "    plt.xlim(0, x_max)\n",
    "    plt.ylim(0, 0.08)\n",
    "    plt.title(f'access freq.: {frq}days')\n",
    "plt.tight_layout()\n",
    "plt.show();"
   ]
  },
  {
   "cell_type": "code",
   "execution_count": 9,
   "metadata": {},
   "outputs": [
    {
     "data": {
      "image/png": "[encoded data removed]",
      "text/plain": [
       "<Figure size 1008x576 with 3 Axes>"
      ]
     },
     "metadata": {},
     "output_type": "display_data"
    }
   ],
   "source": [
    "plt.figure(figsize=(14, 8))\n",
    "plt.rcParams[\"font.size\"] = 12\n",
    "for idx, frq in enumerate(freqs):\n",
    "    tmp = df[df['freq']==frq].groupby('vc_poss_round300').mean()['is_pay'].reset_index()\n",
    "    tmp = tmp[tmp['vc_poss_round300']<x_max].rename(columns={'is_pay': 'pay_rate'})\n",
    "    tmp['vc_poss_round3000'] = (tmp['vc_poss_round300'] / 3000).astype(int) * 3000\n",
    "    \n",
    "    plt.subplot(2, 2, idx+1)\n",
    "    sns.boxplot(x='vc_poss_round3000', y='pay_rate', data=tmp)\n",
    "    plt.xlabel('vc_possession')\n",
    "    plt.ylabel('pay_rate')\n",
    "    plt.ylim(0, 0.08)\n",
    "    plt.title(f'access freq.: {frq}days')\n",
    "plt.tight_layout()\n",
    "plt.show();"
   ]
  },
  {
   "cell_type": "code",
   "execution_count": 10,
   "metadata": {},
   "outputs": [],
   "source": [
    "frq = '22~31'\n",
    "tmp1 = df[df['freq']==frq].groupby('vc_poss_round3000').mean()['is_pay'].reset_index()\n",
    "tmp1 = tmp1[tmp1['vc_poss_round3000']<x_max].rename(columns={'is_pay': 'pay_rate'})\n",
    "\n",
    "tmp2 = df[df['freq']==frq].groupby('vc_poss_round3000').mean()['vc_possession'].reset_index()\n",
    "tmp2 = tmp2[tmp2['vc_poss_round3000']<x_max].rename(columns={'vc_possession': 'mean_vc_poss'})\n",
    "\n",
    "tmp = pd.merge(tmp1, tmp2, on='vc_poss_round3000')\n"
   ]
  },
  {
   "cell_type": "code",
   "execution_count": 11,
   "metadata": {},
   "outputs": [
    {
     "data": {
      "text/html": [
       "<div>\n",
       "<style scoped>\n",
       "    .dataframe tbody tr th:only-of-type {\n",
       "        vertical-align: middle;\n",
       "    }\n",
       "\n",
       "    .dataframe tbody tr th {\n",
       "        vertical-align: top;\n",
       "    }\n",
       "\n",
       "    .dataframe thead th {\n",
       "        text-align: right;\n",
       "    }\n",
       "</style>\n",
       "<table border=\"1\" class=\"dataframe\">\n",
       "  <thead>\n",
       "    <tr style=\"text-align: right;\">\n",
       "      <th></th>\n",
       "      <th>vc_poss_round3000</th>\n",
       "      <th>pay_rate</th>\n",
       "      <th>mean_vc_poss</th>\n",
       "      <th>poss_elasticity</th>\n",
       "    </tr>\n",
       "  </thead>\n",
       "  <tbody>\n",
       "    <tr>\n",
       "      <th>0</th>\n",
       "      <td>NaN</td>\n",
       "      <td>NaN</td>\n",
       "      <td>NaN</td>\n",
       "      <td>NaN</td>\n",
       "    </tr>\n",
       "    <tr>\n",
       "      <th>1</th>\n",
       "      <td>inf</td>\n",
       "      <td>5.460417</td>\n",
       "      <td>2.889148</td>\n",
       "      <td>-1.889975</td>\n",
       "    </tr>\n",
       "    <tr>\n",
       "      <th>2</th>\n",
       "      <td>1.000000</td>\n",
       "      <td>0.492959</td>\n",
       "      <td>0.714955</td>\n",
       "      <td>-0.689497</td>\n",
       "    </tr>\n",
       "    <tr>\n",
       "      <th>3</th>\n",
       "      <td>0.500000</td>\n",
       "      <td>-0.158879</td>\n",
       "      <td>0.445656</td>\n",
       "      <td>0.356505</td>\n",
       "    </tr>\n",
       "    <tr>\n",
       "      <th>4</th>\n",
       "      <td>0.333333</td>\n",
       "      <td>-0.093947</td>\n",
       "      <td>0.291361</td>\n",
       "      <td>0.322441</td>\n",
       "    </tr>\n",
       "    <tr>\n",
       "      <th>5</th>\n",
       "      <td>0.250000</td>\n",
       "      <td>-0.172539</td>\n",
       "      <td>0.221074</td>\n",
       "      <td>0.780461</td>\n",
       "    </tr>\n",
       "    <tr>\n",
       "      <th>6</th>\n",
       "      <td>0.200000</td>\n",
       "      <td>0.019623</td>\n",
       "      <td>0.183875</td>\n",
       "      <td>-0.106721</td>\n",
       "    </tr>\n",
       "    <tr>\n",
       "      <th>7</th>\n",
       "      <td>0.166667</td>\n",
       "      <td>-0.202774</td>\n",
       "      <td>0.155445</td>\n",
       "      <td>1.304478</td>\n",
       "    </tr>\n",
       "  </tbody>\n",
       "</table>\n",
       "</div>"
      ],
      "text/plain": [
       "   vc_poss_round3000  pay_rate  mean_vc_poss  poss_elasticity\n",
       "0                NaN       NaN           NaN              NaN\n",
       "1                inf  5.460417      2.889148        -1.889975\n",
       "2           1.000000  0.492959      0.714955        -0.689497\n",
       "3           0.500000 -0.158879      0.445656         0.356505\n",
       "4           0.333333 -0.093947      0.291361         0.322441\n",
       "5           0.250000 -0.172539      0.221074         0.780461\n",
       "6           0.200000  0.019623      0.183875        -0.106721\n",
       "7           0.166667 -0.202774      0.155445         1.304478"
      ]
     },
     "execution_count": 11,
     "metadata": {},
     "output_type": "execute_result"
    }
   ],
   "source": [
    "pct_df = tmp.pct_change()\n",
    "pct_df['poss_elasticity'] = - pct_df['pay_rate'] / pct_df['mean_vc_poss']\n",
    "pct_df"
   ]
  },
  {
   "cell_type": "code",
   "execution_count": 12,
   "metadata": {},
   "outputs": [
    {
     "data": {
      "image/png": "[encoded data removed]",
      "text/plain": [
       "<Figure size 432x288 with 1 Axes>"
      ]
     },
     "metadata": {},
     "output_type": "display_data"
    }
   ],
   "source": [
    "plt.plot(tmp['mean_vc_poss'], pct_df['poss_elasticity'], marker='o')\n",
    "plt.xlabel('mean_vc_poss')\n",
    "plt.ylabel('poss_elasticity')\n",
    "plt.show();"
   ]
  },
  {
   "cell_type": "code",
   "execution_count": null,
   "metadata": {},
   "outputs": [],
   "source": []
  },
  {
   "cell_type": "code",
   "execution_count": null,
   "metadata": {},
   "outputs": [],
   "source": []
  },
  {
   "cell_type": "code",
   "execution_count": null,
   "metadata": {},
   "outputs": [],
   "source": [
    "for idx, frq in enumerate(freqs):\n",
    "    tmp = df[df['freq']==frq].groupby('vc_poss_round3000').mean()['is_pay'].reset_index()\n",
    "    tmp = tmp[tmp['vc_poss_round300']<=20000].rename(columns={'is_pay': 'pay_rate'})\n",
    "    tmp['vc_poss_round3000'] = (tmp['vc_poss_round300'] / 3000).astype(int) * 3000"
   ]
  },
  {
   "cell_type": "code",
   "execution_count": null,
   "metadata": {},
   "outputs": [],
   "source": []
  },
  {
   "cell_type": "code",
   "execution_count": null,
   "metadata": {},
   "outputs": [],
   "source": []
  },
  {
   "cell_type": "code",
   "execution_count": null,
   "metadata": {
    "colab": {},
    "colab_type": "code",
    "id": "Lk-52WbcMuCX"
   },
   "outputs": [],
   "source": [
    "treat_col = 'is_play'\n",
    "df['treatment'] = df[treat_col]"
   ]
  },
  {
   "cell_type": "code",
   "execution_count": null,
   "metadata": {},
   "outputs": [],
   "source": [
    "cnt_tr = len(df[df['treatment']==1])\n",
    "cnt_ct = len(df[df['treatment']==0])\n",
    "\n",
    "print(f'# of samples (treatment): {cnt_tr :.6f}')\n",
    "print(f'# of samples (control):   {cnt_ct :.6f}')"
   ]
  },
  {
   "cell_type": "code",
   "execution_count": null,
   "metadata": {
    "colab": {},
    "colab_type": "code",
    "id": "tX2b6_kNJohs"
   },
   "outputs": [],
   "source": [
    "# treatmentごとの各特徴量のヒストグラム(調整前)\n",
    "plt.figure(figsize=(24, 24))\n",
    "tmp1 = df[df['treatment']==1].sample(1000, random_state=123)\n",
    "tmp0 = df[df['treatment']==0].sample(1000, random_state=123)\n",
    "vis_cols = [c for c in df.columns if c not in ['appUserId']]\n",
    "for idx, col in enumerate(vis_cols):\n",
    "    plt.subplot(10, 6, idx+1)\n",
    "    plt.hist(tmp1[col], bins=10, alpha=0.5, label='treat')\n",
    "    plt.hist(tmp0[col], bins=10, alpha=0.5, label='control')\n",
    "    plt.legend(loc='best')\n",
    "    plt.title(col)\n",
    "plt.tight_layout()\n",
    "plt.show()"
   ]
  },
  {
   "cell_type": "markdown",
   "metadata": {},
   "source": [
    "# Calculate propensity score"
   ]
  },
  {
   "cell_type": "code",
   "execution_count": null,
   "metadata": {
    "colab": {},
    "colab_type": "code",
    "id": "UBA5eK5MJoeM"
   },
   "outputs": [],
   "source": [
    "from sklearn.preprocessing import StandardScaler\n",
    "from sklearn.model_selection import train_test_split\n",
    "from sklearn.linear_model import LogisticRegression\n",
    "from sklearn.ensemble import RandomForestClassifier\n",
    "from sklearn.metrics import roc_auc_score\n",
    "from sklearn.calibration import calibration_curve\n",
    "\n",
    "drop_cols = ['appUserId', 'is_ios', 'elapsed_date',\n",
    "             'sess_cnt', 'sess_time_total', 'sess_time_min', 'sess_time_mean', 'sess_time_median', 'sess_time_max',\n",
    "             'purchase_amt', 'purchase_dates', 'spend_paid_amt', 'spend_paid_dates', 'spend_free_amt', 'spend_free_dates',\n",
    "             'vc_possession', 'unit_possession', 'holywar_unit_possession', 'purchase_amt_1st_day', 'spend_amt_1st_day',\n",
    "             'is_play', 'is_play_hard', 'pay_amt', 'is_pay']    # , 'treatment'\n",
    "use_cols = [c for c in df.columns if c not in drop_cols]\n",
    "merged_df = df[use_cols]    # 'treatment' は含んでいる\n",
    "\n",
    "#tr_df = merged_df[merged_df['treatment']==1].reset_index(drop=True)\n",
    "#ct_df = merged_df[merged_df['treatment']==0].reset_index(drop=True)\n",
    "#merged_df = pd.concat([tr_df, ct_df.sample(n=len(tr_df)*2, random_state=123)]).reset_index(drop=True)\n",
    "merged_x = merged_df.drop('treatment', axis=1).values\n",
    "merged_y = merged_df['treatment'].values\n",
    "\n",
    "train_df, test_df = train_test_split(merged_df, test_size=0.25, random_state=123)\n",
    "train_x = train_df.drop(['treatment'], axis=1).values\n",
    "train_y = train_df['treatment'].values\n",
    "test_x = test_df.drop(['treatment'], axis=1).values\n",
    "test_y = test_df['treatment'].values"
   ]
  },
  {
   "cell_type": "code",
   "execution_count": null,
   "metadata": {
    "colab": {},
    "colab_type": "code",
    "id": "kPyJsMZKJobP"
   },
   "outputs": [],
   "source": [
    "print('Start logistic regression....')\n",
    "clf = LogisticRegression(penalty='l1', C=0.1, solver='saga', random_state=123)\n",
    "clf.fit(train_x, train_y)\n",
    "pred = clf.predict(test_x)\n",
    "auc = roc_auc_score(test_y, pred)\n",
    "print(f'test-AUC(logistic regression): {auc :.6f}')"
   ]
  },
  {
   "cell_type": "code",
   "execution_count": null,
   "metadata": {},
   "outputs": [],
   "source": [
    "print('\\nStart random forest....')\n",
    "clf = RandomForestClassifier(\n",
    "    max_depth=16, \n",
    "    min_samples_leaf=int(len(merged_df)/1000), \n",
    "    n_jobs=-1, random_state=123)\n",
    "clf.fit(train_x, train_y)\n",
    "pred = clf.predict(test_x)\n",
    "auc = roc_auc_score(test_y, pred)\n",
    "print(f'test-AUC(random forest): {auc :.6f}')"
   ]
  },
  {
   "cell_type": "code",
   "execution_count": null,
   "metadata": {},
   "outputs": [],
   "source": [
    "#TODO: scalerやる\n",
    "#scaler = StandardScaler()\n",
    "#merged_x = scaler.fit_transform(merged_x)"
   ]
  },
  {
   "cell_type": "code",
   "execution_count": null,
   "metadata": {
    "colab": {},
    "colab_type": "code",
    "id": "gj8NggfpJoYb"
   },
   "outputs": [],
   "source": [
    "clf = LogisticRegression(penalty='l1', C=0.1, solver='saga', random_state=123)\n",
    "clf.fit(merged_x, merged_y)\n",
    "merged_df['propensity_lr'] = clf.predict_proba(merged_x)[:, 1]"
   ]
  },
  {
   "cell_type": "code",
   "execution_count": null,
   "metadata": {
    "colab": {},
    "colab_type": "code",
    "id": "l3Msouy4JoVg"
   },
   "outputs": [],
   "source": [
    "# TODO: scaler, CVやる\n",
    "clf = RandomForestClassifier(max_depth=8, \n",
    "                             min_samples_leaf=int(len(merged_df)/100), \n",
    "                             n_jobs=-1, random_state=123)\n",
    "clf.fit(merged_x, merged_y)\n",
    "merged_df['propensity_rf'] = clf.predict_proba(merged_x)[:, 1]"
   ]
  },
  {
   "cell_type": "code",
   "execution_count": null,
   "metadata": {
    "colab": {},
    "colab_type": "code",
    "id": "eqWLhdd5JoSk"
   },
   "outputs": [],
   "source": [
    "importance_df = pd.DataFrame()\n",
    "importance_df['feature'] = merged_df.drop(['treatment', 'propensity_lr', 'propensity_rf'], axis=1).columns\n",
    "importance_df['importance'] = clf.feature_importances_\n",
    "importance_df.sort_values(by='importance', ascending=False, inplace=True)\n",
    "plt.barh(\n",
    "    importance_df.sort_values(by='importance')['feature'], \n",
    "    importance_df.sort_values(by='importance')['importance'])"
   ]
  },
  {
   "cell_type": "code",
   "execution_count": null,
   "metadata": {
    "colab": {},
    "colab_type": "code",
    "id": "YEDJgnRYJoRc"
   },
   "outputs": [],
   "source": [
    "treat_ps_lr = merged_df.loc[merged_df['treatment']==1, 'propensity_lr'].values\n",
    "control_ps_lr = merged_df.loc[merged_df['treatment']==0, 'propensity_lr'].values\n",
    "\n",
    "plt.figure(figsize=(12, 4))\n",
    "plt.subplot(1, 2, 1)\n",
    "plt.hist(treat_ps_lr, bins=10, alpha=0.5, label='treat')\n",
    "#plt.hist(control_ps_lr, bins=10, alpha=0.5, label='control')\n",
    "plt.xlim(0, 1)\n",
    "plt.title('logistic regression')\n",
    "plt.legend(loc='best')\n",
    "\n",
    "plt.subplot(1, 2, 2)\n",
    "#plt.hist(treat_ps_lr, bins=10, alpha=0.5, label='treat')\n",
    "plt.hist(control_ps_lr, bins=10, alpha=0.5, label='control')\n",
    "plt.xlim(0, 1)\n",
    "plt.title('logistic regression')\n",
    "plt.legend(loc='best')\n",
    "\n",
    "plt.show()\n",
    "\n",
    "\n",
    "treat_ps_rf = merged_df.loc[merged_df['treatment']==1, 'propensity_rf'].values\n",
    "control_ps_rf = merged_df.loc[merged_df['treatment']==0, 'propensity_rf'].values\n",
    "\n",
    "plt.figure(figsize=(12, 4))\n",
    "plt.subplot(1, 2, 1)\n",
    "plt.hist(treat_ps_rf, bins=10, alpha=0.5, label='treat')\n",
    "#plt.hist(control_ps_rf, bins=10, alpha=0.5, label='control')\n",
    "plt.xlim(0, 1)\n",
    "plt.title('random forest')\n",
    "plt.legend(loc='best')\n",
    "\n",
    "plt.subplot(1, 2, 2)\n",
    "#plt.hist(treat_ps_rf, bins=10, alpha=0.5, label='treat')\n",
    "plt.hist(control_ps_rf, bins=10, alpha=0.5, label='control')\n",
    "plt.xlim(0, 1)\n",
    "plt.title('random forest')\n",
    "plt.legend(loc='best')\n",
    "\n",
    "plt.show()"
   ]
  },
  {
   "cell_type": "markdown",
   "metadata": {
    "colab": {},
    "colab_type": "code",
    "id": "YVjUX53RJ6N_"
   },
   "source": [
    "# treatment有無での各特徴量のヒストグラム\n",
    "plt.rcParams[\"font.size\"] = 10\n",
    "\n",
    "# オリジナル, バイアス有り(unweighted)\n",
    "plt.figure(figsize=(18, 4))\n",
    "plt.suptitle('unweighted', fontsize=16)\n",
    "for idx in range(12):\n",
    "    col = f'f{idx}'\n",
    "    plt.subplot(2, 6, idx+1)\n",
    "    plt.hist(treat_df[col], bins=10, alpha=0.5)\n",
    "    plt.hist(control_df[col], bins=10, alpha=0.5)\n",
    "    plt.title(col)\n",
    "plt.tight_layout()\n",
    "plt.show()\n",
    "\n",
    "# 傾向スコアの逆数を乗じて補正(IPW)\n",
    "inv_tr_ps = 1 / treat_ps_lr\n",
    "inv_ct_ps = 1 / (1-control_ps_lr)\n",
    "plt.figure(figsize=(18, 4))\n",
    "plt.suptitle('IPW', fontsize=16)\n",
    "for idx in range(12):\n",
    "    col = f'f{idx}'\n",
    "    plt.subplot(2, 6, idx+1)\n",
    "    plt.hist(treat_df[col] * inv_tr_ps, bins=10, alpha=0.5)\n",
    "    plt.hist(control_df[col] * inv_ct_ps, bins=10, alpha=0.5)\n",
    "    plt.title(col)\n",
    "plt.tight_layout()\n",
    "plt.show()\n",
    "\n",
    "# 傾向スコアの逆数を乗じて補正(IPW, truncated)\n",
    "ps_min, ps_max = 0.05, 0.95\n",
    "inv_tr_ps = 1 / np.clip(treat_ps_lr, ps_min, ps_max)\n",
    "inv_ct_ps = 1 / np.clip(1 - control_ps_lr, ps_min, ps_max)\n",
    "plt.figure(figsize=(18, 4))\n",
    "plt.suptitle('IPW, truncated', fontsize=16)\n",
    "for idx in range(12):\n",
    "    col = f'f{idx}'\n",
    "    plt.subplot(2, 6, idx+1)\n",
    "    plt.hist(treat_df[col] * inv_tr_ps, bins=10, alpha=0.5)\n",
    "    plt.hist(control_df[col] * inv_ct_ps, bins=10, alpha=0.5)\n",
    "    plt.title(col)\n",
    "plt.tight_layout()\n",
    "plt.show()\n",
    "\n",
    "# 傾向スコアの逆数を乗じて補正(IPW, discarded)\n",
    "is_valid_tr = np.where((treat_ps_lr > ps_min) & (treat_ps_lr < ps_max), 1, 0)\n",
    "is_valid_ct = np.where((1 - control_ps_lr > ps_min) & (1 - control_ps_lr < ps_max), 1, 0)\n",
    "inv_tr_ps = 1 / treat_ps_lr\n",
    "inv_ct_ps = 1 / (1 - control_ps_lr)\n",
    "plt.figure(figsize=(18, 4))\n",
    "plt.suptitle('IPW, discarded', fontsize=16)\n",
    "for idx in range(12):\n",
    "    col = f'f{idx}'\n",
    "    plt.subplot(2, 6, idx+1)\n",
    "    plt.hist((treat_df[col] * inv_tr_ps).loc[is_valid_tr == 1], bins=10, alpha=0.5)\n",
    "    plt.hist((control_df[col] * inv_ct_ps).loc[is_valid_ct == 1], bins=10, alpha=0.5)\n",
    "    plt.title(col)\n",
    "plt.tight_layout()\n",
    "plt.show()\n",
    "\n",
    "# overlap weightを加えた傾向スコアの逆数を乗じて補正(overlap weight)\n",
    "inv_tr_ps = np.clip(1 - treat_ps_lr, ps_min, ps_max)\n",
    "inv_ct_ps = np.clip(control_ps_lr, ps_min, ps_max)\n",
    "plt.figure(figsize=(18, 4))\n",
    "plt.suptitle('overlap weight', fontsize=16)\n",
    "for idx in range(12):\n",
    "    col = f'f{idx}'\n",
    "    plt.subplot(2, 6, idx+1)\n",
    "    plt.hist(treat_df[col] * inv_tr_ps, bins=10, alpha=0.5)\n",
    "    plt.hist(control_df[col] * inv_ct_ps, bins=10, alpha=0.5)\n",
    "    #sns.distplot(treat_df[col] * inv_tr_ps, kde = True)\n",
    "    #sns.distplot(control_df[col] * inv_ct_ps, kde = True)\n",
    "    plt.title(col)\n",
    "plt.tight_layout()\n",
    "plt.show()"
   ]
  },
  {
   "cell_type": "markdown",
   "metadata": {
    "colab_type": "text",
    "id": "oK-lvF5cKGCy"
   },
   "source": [
    "# Estimate ATE/ATT/ATC"
   ]
  },
  {
   "cell_type": "code",
   "execution_count": null,
   "metadata": {},
   "outputs": [],
   "source": [
    "target_col = 'is_pay'\n",
    "df['outcome'] = df[target_col]"
   ]
  },
  {
   "cell_type": "code",
   "execution_count": null,
   "metadata": {},
   "outputs": [],
   "source": [
    "# 調整せず比較した場合\n",
    "cvr_tr = df.loc[df['treatment']==1, 'outcome'].mean()\n",
    "cvr_ct = df.loc[df['treatment']==0, 'outcome'].mean()\n",
    "\n",
    "print('Unadjusted estimation:')\n",
    "print(f'CVR(treatment): {cvr_tr :.6f}')\n",
    "print(f'CVR(control):   {cvr_ct :.6f}')\n",
    "print(f'ATE(biased):    {cvr_tr - cvr_ct :.6f}')"
   ]
  },
  {
   "cell_type": "markdown",
   "metadata": {},
   "source": [
    "# Matching"
   ]
  },
  {
   "cell_type": "code",
   "execution_count": null,
   "metadata": {
    "colab": {},
    "colab_type": "code",
    "id": "rW3qhKKTJ6KY"
   },
   "outputs": [],
   "source": [
    "\"\"\"\n",
    "https://microsoft.github.io/dowhy/_modules/dowhy/causal_estimators/propensity_score_matching_estimator.html\n",
    "\"\"\"\n",
    "from sklearn.neighbors import NearestNeighbors\n",
    "\n",
    "def matching(df, t_col, y_col, ps_col, caliper=None):\n",
    "    print('Matching....')\n",
    "    t0 = time()\n",
    "    treated = df.loc[df[t_col] == 1].reset_index(drop=True)\n",
    "    control = df.loc[df[t_col] == 0].reset_index(drop=True)\n",
    "\n",
    "    # estimate ATT on treated by summing over difference between matched neighbors\n",
    "    nn = NearestNeighbors(n_neighbors=1, algorithm='ball_tree')\n",
    "    control_neighbors = nn.fit(control[ps_col].values.reshape(-1, 1))\n",
    "    distances, indices = control_neighbors.kneighbors(treated[ps_col].values.reshape(-1, 1))\n",
    "\n",
    "    if caliper == None:\n",
    "        caliper = np.median(distances)\n",
    "        print(f'Caliper is setted to the median of distances, caliper = {caliper}')\n",
    "    use_idx = np.where(distances.reshape(-1) <= caliper)\n",
    "    distances = distances[use_idx]\n",
    "    indices = indices[use_idx]\n",
    "    num_treated = len(distances)\n",
    "    #plt.hist(distances, bins=20)\n",
    "    \n",
    "    treated_outcome = treated[y_col].values[use_idx]\n",
    "    control_outcome = control[y_col].values[indices.reshape(-1)]\n",
    "    att = treated_outcome.mean() - control_outcome.mean()\n",
    "    _, pvalue = stats.ttest_ind(treated_outcome, control_outcome, equal_var=False)\n",
    "    \n",
    "    print(f'\\nTreatment outcome: {treated_outcome.mean() :.6f}')\n",
    "    print(f'Control outcome:   {control_outcome.mean() :.6f}')\n",
    "    print(f'ATT(matching):     {att :.6f}, (p-value={pvalue :.6f})')\n",
    "\n",
    "    # prepair dataframes to check SD \n",
    "    print(f'# of matched pairs: {num_treated} ({num_treated / len(treated) :.3f} of all records)')\n",
    "    att_pair_tr_df = pd.DataFrame(treated.values[use_idx])\n",
    "    att_pair_tr_df.columns = [col for col in treated.columns]\n",
    "    att_pair_ct_df = pd.DataFrame(control.values[indices.reshape(-1), :])\n",
    "    att_pair_ct_df.columns = [col for col in control.columns]\n",
    "    \n",
    "    # Now computing ATC\n",
    "    nn = NearestNeighbors(n_neighbors=1, algorithm='ball_tree')\n",
    "    treated_neighbors = nn.fit(treated[ps_col].values.reshape(-1, 1))\n",
    "    distances, indices = treated_neighbors.kneighbors(control[ps_col].values.reshape(-1, 1))\n",
    "\n",
    "    use_idx = np.where(distances.reshape(-1) <= caliper)\n",
    "    distances = distances[use_idx]\n",
    "    indices = indices[use_idx]\n",
    "    num_control = len(distances)\n",
    "    \n",
    "    treated_outcome = treated[y_col].values[indices.reshape(-1)]\n",
    "    control_outcome = control[y_col].values[use_idx]\n",
    "    atc = treated_outcome.mean() - control_outcome.mean()\n",
    "    _, pvalue = stats.ttest_ind(treated_outcome, control_outcome, equal_var=False)\n",
    "    \n",
    "    print(f'\\nTreatment outcome: {treated_outcome.mean() :.6f}')\n",
    "    print(f'Control outcome:   {control_outcome.mean() :.6f}')\n",
    "    print(f'ATC(matching):     {atc :.6f}, (p-value={pvalue :.6f})')\n",
    "\n",
    "    # prepair dataframes to check SD \n",
    "    print(f'# of matched pairs: {num_treated} ({num_treated / len(treated) :.3f} of all records)')\n",
    "    atc_pair_tr_df = pd.DataFrame(treated.values[indices.reshape(-1), :])\n",
    "    atc_pair_tr_df.columns = [col for col in treated.columns]\n",
    "    atc_pair_ct_df = pd.DataFrame(control.values[use_idx])\n",
    "    atc_pair_ct_df.columns = [col for col in control.columns]\n",
    "\n",
    "    # Estimate ATE\n",
    "    ate = (att * num_treated + atc * num_control) / (num_treated + num_control)\n",
    "    print(f'\\nATE(matching): {ate :.6f}')\n",
    "\n",
    "    print(f'\\nEnd in {time() - t0 :.2f}s.')\n",
    "\n",
    "    return att_pair_tr_df, att_pair_ct_df, atc_pair_tr_df, atc_pair_ct_df\n",
    "\n",
    "merged_df['outcome'] = df['outcome']\n",
    "att_pair_tr_df, att_pair_ct_df, atc_pair_tr_df, atc_pair_ct_df = matching(\n",
    "    merged_df, t_col='treatment', y_col='outcome', ps_col='propensity_lr', caliper=1.e-4)"
   ]
  },
  {
   "cell_type": "markdown",
   "metadata": {},
   "source": [
    "# Validation of adjusted covariates"
   ]
  },
  {
   "cell_type": "code",
   "execution_count": null,
   "metadata": {
    "colab": {},
    "colab_type": "code",
    "id": "Hi10lzggJ6HW"
   },
   "outputs": [],
   "source": [
    "# standardized difference\n",
    "def absolute_standardized_difference(treat, control):\n",
    "    sd = (treat.mean() - control.mean()) / np.sqrt((treat.var() + control.var()) / 2)\n",
    "    return abs(sd)\n",
    "\n",
    "sd_list = []\n",
    "vis_cols = [c for c in merged_df.columns if c not in ['treatment', 'outcome', 'propensity_lr', 'propensity_rf']]\n",
    "for col in vis_cols:\n",
    "    tr_df = merged_df.loc[merged_df['treatment']==1, col].reset_index(drop=True)\n",
    "    ct_df = merged_df.loc[merged_df['treatment']==0, col].reset_index(drop=True)\n",
    "    sd_biased = absolute_standardized_difference(tr_df, ct_df)\n",
    "    sd_adjusted = absolute_standardized_difference(att_pair_tr_df[col], att_pair_ct_df[col])\n",
    "    sd_list.append([sd_biased, sd_adjusted])\n",
    "    print(f'col: {col :<26}, SD(biased): {sd_biased :.6f}, SD(matched): {sd_adjusted :.6f}')\n",
    "\n",
    "sd_arr = np.array(sd_list)\n",
    "plt.figure(figsize=(6, 6))\n",
    "plt.scatter(vis_cols, sd_arr[:, 0], label='biased')\n",
    "plt.scatter(vis_cols, sd_arr[:, 1], label='matched')\n",
    "plt.hlines(y=0.1, xmin=-1, xmax=len(vis_cols), linestyles='dotted', linewidths=0.5)\n",
    "plt.xlim(-0.5, len(vis_cols) - 0.5)\n",
    "plt.xticks(rotation=90)\n",
    "plt.legend(loc='best')\n",
    "plt.tight_layout()\n",
    "plt.show();"
   ]
  },
  {
   "cell_type": "markdown",
   "metadata": {},
   "source": [
    "# Sensitivity Analysis\n",
    "- [Sensitivity Analysis without Assumptions, Ding and VanderWeele (2016)](https://www.ncbi.nlm.nih.gov/pmc/articles/PMC4820664/)"
   ]
  },
  {
   "cell_type": "code",
   "execution_count": null,
   "metadata": {},
   "outputs": [],
   "source": [
    "def get_evalue_curve(tr, ct):\n",
    "    # risk ratio\n",
    "    rr = tr_est / ct_est if tr_est / ct_est >= 1. else ct_est / tr_est\n",
    "    evalue = rr + np.sqrt(rr * (rr - 1))\n",
    "\n",
    "    print(f'Est. risk ratio: {rr :.4f}')\n",
    "    print(f'E-value:         {evalue :.4f}')\n",
    "\n",
    "    # visualize\n",
    "    x_max = math.ceil(evalue * 3)\n",
    "    y_max = x_max\n",
    "    x_start = rr * (1 - y_max) / (rr - y_max)\n",
    "    x = np.arange(x_start, x_max, 0.02)\n",
    "    y = rr * (1 - x) / (rr - x)\n",
    "\n",
    "    plt.figure(figsize=(6, 6))\n",
    "    plt.rcParams[\"font.size\"] = 12\n",
    "    plt.plot(x, y, 'b:', label='boundary')\n",
    "    plt.scatter(evalue, evalue, c='r', label='E-value')\n",
    "    plt.text(evalue * 0.5, evalue * 0.5, 'significant-effect zone',\n",
    "             horizontalalignment='left', verticalalignment='center')\n",
    "    plt.text(evalue * 1.5, evalue * 1.5, 'null-effect zone',\n",
    "             horizontalalignment='center', verticalalignment='center')\n",
    "    plt.text(evalue, evalue, f'({evalue :.2f}, {evalue :.2f})')\n",
    "    plt.xlim(0, x_max)\n",
    "    plt.ylim(0, y_max)\n",
    "    plt.xlabel('RR(UX)')\n",
    "    plt.ylabel('RR(UY)')\n",
    "    plt.grid()\n",
    "    plt.legend(loc='best')\n",
    "    plt.show()\n",
    "    \n",
    "print('\\nATT case:')\n",
    "tr_est = att_pair_tr_df['outcome'].mean()\n",
    "ct_est = att_pair_ct_df['outcome'].mean()\n",
    "get_evalue_curve(tr_est, ct_est)\n",
    "\n",
    "print('\\nATC case:')\n",
    "tr_est = atc_pair_tr_df['outcome'].mean()\n",
    "ct_est = atc_pair_ct_df['outcome'].mean()\n",
    "get_evalue_curve(tr_est, ct_est)"
   ]
  },
  {
   "cell_type": "markdown",
   "metadata": {
    "colab_type": "text",
    "id": "lQy9ChcRKLio"
   },
   "source": [
    "# IPW, Overlap weight\n",
    "**Overlap weight**\n",
    "- https://speakerdeck.com/tomoshige_n/causal-inference-and-data-analysis?slide=37\n",
    "- http://www2.stat.duke.edu/~fl35/OW/MultiTrt_talk.pdf"
   ]
  },
  {
   "cell_type": "code",
   "execution_count": null,
   "metadata": {
    "colab": {},
    "colab_type": "code",
    "id": "Z269qlEjJ6E_"
   },
   "outputs": [],
   "source": [
    "ps_min, ps_max = 0.001, 0.999\n",
    "#ps_min, ps_max = 0.1, 0.9    # Li et al., 2018\n",
    "tr = merged_df['treatment'].values\n",
    "ps = merged_df['propensity_lr'].values\n",
    "ps = np.clip(ps, ps_min, ps_max)\n",
    "target = merged_df['outcome'].values\n",
    "\n",
    "ipwe0 = ((1 - tr) * target / (1 - ps)).sum() / ((1 - tr) / (1 - ps)).sum()\n",
    "ipwe1 = (tr * target / ps).sum() / (tr / ps).sum()\n",
    "print(f'ATE(IPW): {ipwe1 - ipwe0 :.6f}')\n",
    "\n",
    "owe0 = ((1 - tr) * target * ps).sum() / ((1 - tr) * ps).sum()\n",
    "owe1 = (tr * target * (1 - ps)).sum() / (tr * (1 - ps)).sum()\n",
    "print(f'ATE(overlap weight): {owe1 - owe0 :.6f}')"
   ]
  },
  {
   "cell_type": "code",
   "execution_count": null,
   "metadata": {
    "colab": {},
    "colab_type": "code",
    "id": "NSd4_ii1J6Bs"
   },
   "outputs": [],
   "source": [
    "def show_result(arr, cols, adusted_label):\n",
    "    plt.scatter(cols, arr[:, 0], label='biased')\n",
    "    plt.scatter(cols, arr[:, 1], label=adusted_label)\n",
    "    plt.hlines(y=0.1, xmin=-1, xmax=len(vis_cols), linestyles='dotted', linewidths=0.5)\n",
    "    plt.xlim(-0.5, len(vis_cols) - 0.5)\n",
    "    plt.legend(loc='best')\n",
    "    plt.title(adusted_label)\n",
    "\n",
    "plt.figure(figsize=(12, 8))\n",
    "\n",
    "# IPW\n",
    "print('\\nStandardized difference for covariates using IPW')\n",
    "sd_list = []\n",
    "vis_cols = [c for c in merged_df.columns if c not in ['treatment', 'propensity_lr', 'propensity_rf']]\n",
    "for col in vis_cols:\n",
    "    tr_df = merged_df.loc[merged_df['treatment']==1, col].reset_index(drop=True)\n",
    "    ct_df = merged_df.loc[merged_df['treatment']==0, col].reset_index(drop=True)\n",
    "    tr_ps = merged_df.loc[merged_df['treatment']==1, 'propensity_lr'].values\n",
    "    ct_ps = merged_df.loc[merged_df['treatment']==0, 'propensity_lr'].values\n",
    "    sd_biased = absolute_standardized_difference(tr_df, ct_df)\n",
    "    sd_adjusted = absolute_standardized_difference(tr_df / tr_ps, ct_df / (1 - ct_ps))\n",
    "    sd_list.append([sd_biased, sd_adjusted])\n",
    "    print(f'col: {col :<26}, SD(biased): {sd_biased :.6f}, SD(matched): {sd_adjusted :.6f}')\n",
    "    \n",
    "plt.subplot(2, 2, 1)\n",
    "show_result(np.array(sd_list), vis_cols, 'IPW')\n",
    "\n",
    "# IPW, truncated\n",
    "print('\\nStandardized difference for covariates using truncated IPW')\n",
    "ps_min, ps_max = 0.05, 0.95\n",
    "sd_list = []\n",
    "for col in vis_cols:\n",
    "    tr_df = merged_df.loc[merged_df['treatment']==1, col].reset_index(drop=True)\n",
    "    ct_df = merged_df.loc[merged_df['treatment']==0, col].reset_index(drop=True)\n",
    "    tr_ps = merged_df.loc[merged_df['treatment']==1, 'propensity_lr'].values\n",
    "    ct_ps = merged_df.loc[merged_df['treatment']==0, 'propensity_lr'].values\n",
    "    inv_tr_ps = 1 / np.clip(tr_ps, ps_min, ps_max)\n",
    "    inv_ct_ps = 1 / np.clip(1 - ct_ps, ps_min, ps_max)\n",
    "    sd_biased = absolute_standardized_difference(tr_df, ct_df)\n",
    "    sd_adjusted = absolute_standardized_difference(tr_df * inv_tr_ps, ct_df * inv_ct_ps)\n",
    "    sd_list.append([sd_biased, sd_adjusted])\n",
    "    print(f'col: {col :<26}, SD(biased): {sd_biased :.6f}, SD(matched): {sd_adjusted :.6f}')\n",
    "\n",
    "plt.subplot(2, 2, 2)\n",
    "show_result(np.array(sd_list), vis_cols, 'IPW, truncated')\n",
    "\n",
    "# IPW, discarded\n",
    "print('\\nStandardized difference for covariates using discarded IPW')\n",
    "sd_list = []\n",
    "for col in vis_cols:\n",
    "    tr_df = merged_df.loc[merged_df['treatment']==1, col].reset_index(drop=True)\n",
    "    ct_df = merged_df.loc[merged_df['treatment']==0, col].reset_index(drop=True)\n",
    "    tr_ps = merged_df.loc[merged_df['treatment']==1, 'propensity_lr'].values\n",
    "    ct_ps = merged_df.loc[merged_df['treatment']==0, 'propensity_lr'].values\n",
    "    is_valid_tr = np.where((tr_ps > ps_min) & (tr_ps < ps_max), 1, 0)\n",
    "    is_valid_ct = np.where((1 - ct_ps > ps_min) & (1 - ct_ps < ps_max), 1, 0)\n",
    "    inv_tr_ps = 1 / tr_ps\n",
    "    inv_ct_ps = 1 / (1 - ct_ps)\n",
    "    sd_biased = absolute_standardized_difference(tr_df, ct_df)\n",
    "    sd_adjusted = absolute_standardized_difference(tr_df * inv_tr_ps, ct_df * inv_ct_ps)\n",
    "    sd_list.append([sd_biased, sd_adjusted])\n",
    "    print(f'col: {col :<26}, SD(biased): {sd_biased :.6f}, SD(matched): {sd_adjusted :.6f}')\n",
    "\n",
    "plt.subplot(2, 2, 3)\n",
    "show_result(np.array(sd_list), vis_cols, 'IPW, discarded')\n",
    "\n",
    "# overlap weight\n",
    "print('\\nStandardized difference for covariates using overlap weight')\n",
    "sd_list = []\n",
    "vis_cols = [c for c in merged_df.columns if c not in ['treatment', 'propensity_lr', 'propensity_rf']]\n",
    "for col in vis_cols:\n",
    "    tr_df = merged_df.loc[merged_df['treatment']==1, col].reset_index(drop=True)\n",
    "    ct_df = merged_df.loc[merged_df['treatment']==0, col].reset_index(drop=True)\n",
    "    tr_ps = merged_df.loc[merged_df['treatment']==1, 'propensity_lr'].values\n",
    "    ct_ps = merged_df.loc[merged_df['treatment']==0, 'propensity_lr'].values\n",
    "    sd_biased = absolute_standardized_difference(tr_df, ct_df)\n",
    "    sd_adjusted = absolute_standardized_difference(tr_df * (1 - tr_ps), ct_df * ct_ps)\n",
    "    sd_list.append([sd_biased, sd_adjusted])\n",
    "    print(f'col: {col :<26}, SD(biased): {sd_biased :.6f}, SD(matched): {sd_adjusted :.6f}')\n",
    "\n",
    "plt.subplot(2, 2, 4)\n",
    "show_result(np.array(sd_list), vis_cols, 'overlap weight')\n",
    "\n",
    "plt.tight_layout()\n",
    "plt.show();"
   ]
  },
  {
   "cell_type": "code",
   "execution_count": null,
   "metadata": {
    "colab": {},
    "colab_type": "code",
    "id": "mzD1n6PiJ59s"
   },
   "outputs": [],
   "source": []
  },
  {
   "cell_type": "code",
   "execution_count": null,
   "metadata": {
    "colab": {},
    "colab_type": "code",
    "id": "Nfom3s2RJoMb"
   },
   "outputs": [],
   "source": []
  },
  {
   "cell_type": "code",
   "execution_count": null,
   "metadata": {
    "colab": {},
    "colab_type": "code",
    "id": "to9kuODIJoJV"
   },
   "outputs": [],
   "source": []
  },
  {
   "cell_type": "code",
   "execution_count": null,
   "metadata": {
    "colab": {},
    "colab_type": "code",
    "id": "-FJF94bgJoGR"
   },
   "outputs": [],
   "source": []
  },
  {
   "cell_type": "code",
   "execution_count": null,
   "metadata": {
    "colab": {},
    "colab_type": "code",
    "id": "FCPvWKEhJn-6"
   },
   "outputs": [],
   "source": []
  },
  {
   "cell_type": "code",
   "execution_count": null,
   "metadata": {
    "colab": {},
    "colab_type": "code",
    "id": "hK9W_DJTg2Rq"
   },
   "outputs": [],
   "source": []
  }
 ],
 "metadata": {
  "colab": {
   "authorship_tag": "ABX9TyNN3yKGXj4clYhFXKUJHHcI",
   "collapsed_sections": [],
   "name": "portrait_brave.ipynb",
   "provenance": [],
   "toc_visible": true
  },
  "kernelspec": {
   "display_name": "Python 3",
   "language": "python",
   "name": "python3"
  },
  "language_info": {
   "codemirror_mode": {
    "name": "ipython",
    "version": 3
   },
   "file_extension": ".py",
   "mimetype": "text/x-python",
   "name": "python",
   "nbconvert_exporter": "python",
   "pygments_lexer": "ipython3",
   "version": "3.7.6"
  }
 },
 "nbformat": 4,
 "nbformat_minor": 4
}
